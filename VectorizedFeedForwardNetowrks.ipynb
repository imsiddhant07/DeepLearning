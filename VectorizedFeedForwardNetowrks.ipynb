{
  "nbformat": 4,
  "nbformat_minor": 0,
  "metadata": {
    "colab": {
      "name": "VectorizedFeedForwardNetowrks.ipynb",
      "provenance": [],
      "collapsed_sections": [
        "02SUgIMVw-il",
        "PjsFPE3H2Voi",
        "wz76jQn436Og",
        "B6HuNIb96scn"
      ],
      "toc_visible": true,
      "authorship_tag": "ABX9TyM4B88pw8xAaD817O4DfFxu",
      "include_colab_link": true
    },
    "kernelspec": {
      "name": "python3",
      "display_name": "Python 3"
    },
    "widgets": {
      "application/vnd.jupyter.widget-state+json": {
        "e6284f68aa904ba3a5e3ce02860affe5": {
          "model_module": "@jupyter-widgets/controls",
          "model_name": "HBoxModel",
          "state": {
            "_view_name": "HBoxView",
            "_dom_classes": [],
            "_model_name": "HBoxModel",
            "_view_module": "@jupyter-widgets/controls",
            "_model_module_version": "1.5.0",
            "_view_count": null,
            "_view_module_version": "1.5.0",
            "box_style": "",
            "layout": "IPY_MODEL_076792baf4ee4de8bcc86aab0de42706",
            "_model_module": "@jupyter-widgets/controls",
            "children": [
              "IPY_MODEL_4493b615e72a48f28b3dd05c8acc62d9",
              "IPY_MODEL_fa7471c029ed447fb8863b93c1d1179f"
            ]
          }
        },
        "076792baf4ee4de8bcc86aab0de42706": {
          "model_module": "@jupyter-widgets/base",
          "model_name": "LayoutModel",
          "state": {
            "_view_name": "LayoutView",
            "grid_template_rows": null,
            "right": null,
            "justify_content": null,
            "_view_module": "@jupyter-widgets/base",
            "overflow": null,
            "_model_module_version": "1.2.0",
            "_view_count": null,
            "flex_flow": null,
            "width": null,
            "min_width": null,
            "border": null,
            "align_items": null,
            "bottom": null,
            "_model_module": "@jupyter-widgets/base",
            "top": null,
            "grid_column": null,
            "overflow_y": null,
            "overflow_x": null,
            "grid_auto_flow": null,
            "grid_area": null,
            "grid_template_columns": null,
            "flex": null,
            "_model_name": "LayoutModel",
            "justify_items": null,
            "grid_row": null,
            "max_height": null,
            "align_content": null,
            "visibility": null,
            "align_self": null,
            "height": null,
            "min_height": null,
            "padding": null,
            "grid_auto_rows": null,
            "grid_gap": null,
            "max_width": null,
            "order": null,
            "_view_module_version": "1.2.0",
            "grid_template_areas": null,
            "object_position": null,
            "object_fit": null,
            "grid_auto_columns": null,
            "margin": null,
            "display": null,
            "left": null
          }
        },
        "4493b615e72a48f28b3dd05c8acc62d9": {
          "model_module": "@jupyter-widgets/controls",
          "model_name": "FloatProgressModel",
          "state": {
            "_view_name": "ProgressView",
            "style": "IPY_MODEL_0c706907f30347d08aaa60e4fa2d4f7a",
            "_dom_classes": [],
            "description": "100%",
            "_model_name": "FloatProgressModel",
            "bar_style": "success",
            "max": 2000,
            "_view_module": "@jupyter-widgets/controls",
            "_model_module_version": "1.5.0",
            "value": 2000,
            "_view_count": null,
            "_view_module_version": "1.5.0",
            "orientation": "horizontal",
            "min": 0,
            "description_tooltip": null,
            "_model_module": "@jupyter-widgets/controls",
            "layout": "IPY_MODEL_6e93c90df9044350bbca79df16f1ca88"
          }
        },
        "fa7471c029ed447fb8863b93c1d1179f": {
          "model_module": "@jupyter-widgets/controls",
          "model_name": "HTMLModel",
          "state": {
            "_view_name": "HTMLView",
            "style": "IPY_MODEL_1314f42e815e4f89827287d1b7ae72b5",
            "_dom_classes": [],
            "description": "",
            "_model_name": "HTMLModel",
            "placeholder": "​",
            "_view_module": "@jupyter-widgets/controls",
            "_model_module_version": "1.5.0",
            "value": " 2000/2000 [02:04&lt;00:00, 16.04epoch/s]",
            "_view_count": null,
            "_view_module_version": "1.5.0",
            "description_tooltip": null,
            "_model_module": "@jupyter-widgets/controls",
            "layout": "IPY_MODEL_6a4cff337dbc44d99232ad1cf5aea40e"
          }
        },
        "0c706907f30347d08aaa60e4fa2d4f7a": {
          "model_module": "@jupyter-widgets/controls",
          "model_name": "ProgressStyleModel",
          "state": {
            "_view_name": "StyleView",
            "_model_name": "ProgressStyleModel",
            "description_width": "initial",
            "_view_module": "@jupyter-widgets/base",
            "_model_module_version": "1.5.0",
            "_view_count": null,
            "_view_module_version": "1.2.0",
            "bar_color": null,
            "_model_module": "@jupyter-widgets/controls"
          }
        },
        "6e93c90df9044350bbca79df16f1ca88": {
          "model_module": "@jupyter-widgets/base",
          "model_name": "LayoutModel",
          "state": {
            "_view_name": "LayoutView",
            "grid_template_rows": null,
            "right": null,
            "justify_content": null,
            "_view_module": "@jupyter-widgets/base",
            "overflow": null,
            "_model_module_version": "1.2.0",
            "_view_count": null,
            "flex_flow": null,
            "width": null,
            "min_width": null,
            "border": null,
            "align_items": null,
            "bottom": null,
            "_model_module": "@jupyter-widgets/base",
            "top": null,
            "grid_column": null,
            "overflow_y": null,
            "overflow_x": null,
            "grid_auto_flow": null,
            "grid_area": null,
            "grid_template_columns": null,
            "flex": null,
            "_model_name": "LayoutModel",
            "justify_items": null,
            "grid_row": null,
            "max_height": null,
            "align_content": null,
            "visibility": null,
            "align_self": null,
            "height": null,
            "min_height": null,
            "padding": null,
            "grid_auto_rows": null,
            "grid_gap": null,
            "max_width": null,
            "order": null,
            "_view_module_version": "1.2.0",
            "grid_template_areas": null,
            "object_position": null,
            "object_fit": null,
            "grid_auto_columns": null,
            "margin": null,
            "display": null,
            "left": null
          }
        },
        "1314f42e815e4f89827287d1b7ae72b5": {
          "model_module": "@jupyter-widgets/controls",
          "model_name": "DescriptionStyleModel",
          "state": {
            "_view_name": "StyleView",
            "_model_name": "DescriptionStyleModel",
            "description_width": "",
            "_view_module": "@jupyter-widgets/base",
            "_model_module_version": "1.5.0",
            "_view_count": null,
            "_view_module_version": "1.2.0",
            "_model_module": "@jupyter-widgets/controls"
          }
        },
        "6a4cff337dbc44d99232ad1cf5aea40e": {
          "model_module": "@jupyter-widgets/base",
          "model_name": "LayoutModel",
          "state": {
            "_view_name": "LayoutView",
            "grid_template_rows": null,
            "right": null,
            "justify_content": null,
            "_view_module": "@jupyter-widgets/base",
            "overflow": null,
            "_model_module_version": "1.2.0",
            "_view_count": null,
            "flex_flow": null,
            "width": null,
            "min_width": null,
            "border": null,
            "align_items": null,
            "bottom": null,
            "_model_module": "@jupyter-widgets/base",
            "top": null,
            "grid_column": null,
            "overflow_y": null,
            "overflow_x": null,
            "grid_auto_flow": null,
            "grid_area": null,
            "grid_template_columns": null,
            "flex": null,
            "_model_name": "LayoutModel",
            "justify_items": null,
            "grid_row": null,
            "max_height": null,
            "align_content": null,
            "visibility": null,
            "align_self": null,
            "height": null,
            "min_height": null,
            "padding": null,
            "grid_auto_rows": null,
            "grid_gap": null,
            "max_width": null,
            "order": null,
            "_view_module_version": "1.2.0",
            "grid_template_areas": null,
            "object_position": null,
            "object_fit": null,
            "grid_auto_columns": null,
            "margin": null,
            "display": null,
            "left": null
          }
        },
        "40d721be774e4c94b9090527a31721d7": {
          "model_module": "@jupyter-widgets/controls",
          "model_name": "HBoxModel",
          "state": {
            "_view_name": "HBoxView",
            "_dom_classes": [],
            "_model_name": "HBoxModel",
            "_view_module": "@jupyter-widgets/controls",
            "_model_module_version": "1.5.0",
            "_view_count": null,
            "_view_module_version": "1.5.0",
            "box_style": "",
            "layout": "IPY_MODEL_83dcd08c7c774e51b1bfe6ba7832b0e5",
            "_model_module": "@jupyter-widgets/controls",
            "children": [
              "IPY_MODEL_f3ee2910929147a7980c426d899fb192",
              "IPY_MODEL_85772e264d5f4276a10d3c2c3ffe33d6"
            ]
          }
        },
        "83dcd08c7c774e51b1bfe6ba7832b0e5": {
          "model_module": "@jupyter-widgets/base",
          "model_name": "LayoutModel",
          "state": {
            "_view_name": "LayoutView",
            "grid_template_rows": null,
            "right": null,
            "justify_content": null,
            "_view_module": "@jupyter-widgets/base",
            "overflow": null,
            "_model_module_version": "1.2.0",
            "_view_count": null,
            "flex_flow": null,
            "width": null,
            "min_width": null,
            "border": null,
            "align_items": null,
            "bottom": null,
            "_model_module": "@jupyter-widgets/base",
            "top": null,
            "grid_column": null,
            "overflow_y": null,
            "overflow_x": null,
            "grid_auto_flow": null,
            "grid_area": null,
            "grid_template_columns": null,
            "flex": null,
            "_model_name": "LayoutModel",
            "justify_items": null,
            "grid_row": null,
            "max_height": null,
            "align_content": null,
            "visibility": null,
            "align_self": null,
            "height": null,
            "min_height": null,
            "padding": null,
            "grid_auto_rows": null,
            "grid_gap": null,
            "max_width": null,
            "order": null,
            "_view_module_version": "1.2.0",
            "grid_template_areas": null,
            "object_position": null,
            "object_fit": null,
            "grid_auto_columns": null,
            "margin": null,
            "display": null,
            "left": null
          }
        },
        "f3ee2910929147a7980c426d899fb192": {
          "model_module": "@jupyter-widgets/controls",
          "model_name": "FloatProgressModel",
          "state": {
            "_view_name": "ProgressView",
            "style": "IPY_MODEL_3c60442d5ff44cc794a5e54e49fcb280",
            "_dom_classes": [],
            "description": "100%",
            "_model_name": "FloatProgressModel",
            "bar_style": "success",
            "max": 2000,
            "_view_module": "@jupyter-widgets/controls",
            "_model_module_version": "1.5.0",
            "value": 2000,
            "_view_count": null,
            "_view_module_version": "1.5.0",
            "orientation": "horizontal",
            "min": 0,
            "description_tooltip": null,
            "_model_module": "@jupyter-widgets/controls",
            "layout": "IPY_MODEL_d38c4cee2e7a4618a6713c7c69b3b981"
          }
        },
        "85772e264d5f4276a10d3c2c3ffe33d6": {
          "model_module": "@jupyter-widgets/controls",
          "model_name": "HTMLModel",
          "state": {
            "_view_name": "HTMLView",
            "style": "IPY_MODEL_40d3bdd5c1884541bb3cf9e95c759094",
            "_dom_classes": [],
            "description": "",
            "_model_name": "HTMLModel",
            "placeholder": "​",
            "_view_module": "@jupyter-widgets/controls",
            "_model_module_version": "1.5.0",
            "value": " 2000/2000 [01:27&lt;00:00, 22.81epoch/s]",
            "_view_count": null,
            "_view_module_version": "1.5.0",
            "description_tooltip": null,
            "_model_module": "@jupyter-widgets/controls",
            "layout": "IPY_MODEL_785147cd99ae4b248c475a0b388d0eb4"
          }
        },
        "3c60442d5ff44cc794a5e54e49fcb280": {
          "model_module": "@jupyter-widgets/controls",
          "model_name": "ProgressStyleModel",
          "state": {
            "_view_name": "StyleView",
            "_model_name": "ProgressStyleModel",
            "description_width": "initial",
            "_view_module": "@jupyter-widgets/base",
            "_model_module_version": "1.5.0",
            "_view_count": null,
            "_view_module_version": "1.2.0",
            "bar_color": null,
            "_model_module": "@jupyter-widgets/controls"
          }
        },
        "d38c4cee2e7a4618a6713c7c69b3b981": {
          "model_module": "@jupyter-widgets/base",
          "model_name": "LayoutModel",
          "state": {
            "_view_name": "LayoutView",
            "grid_template_rows": null,
            "right": null,
            "justify_content": null,
            "_view_module": "@jupyter-widgets/base",
            "overflow": null,
            "_model_module_version": "1.2.0",
            "_view_count": null,
            "flex_flow": null,
            "width": null,
            "min_width": null,
            "border": null,
            "align_items": null,
            "bottom": null,
            "_model_module": "@jupyter-widgets/base",
            "top": null,
            "grid_column": null,
            "overflow_y": null,
            "overflow_x": null,
            "grid_auto_flow": null,
            "grid_area": null,
            "grid_template_columns": null,
            "flex": null,
            "_model_name": "LayoutModel",
            "justify_items": null,
            "grid_row": null,
            "max_height": null,
            "align_content": null,
            "visibility": null,
            "align_self": null,
            "height": null,
            "min_height": null,
            "padding": null,
            "grid_auto_rows": null,
            "grid_gap": null,
            "max_width": null,
            "order": null,
            "_view_module_version": "1.2.0",
            "grid_template_areas": null,
            "object_position": null,
            "object_fit": null,
            "grid_auto_columns": null,
            "margin": null,
            "display": null,
            "left": null
          }
        },
        "40d3bdd5c1884541bb3cf9e95c759094": {
          "model_module": "@jupyter-widgets/controls",
          "model_name": "DescriptionStyleModel",
          "state": {
            "_view_name": "StyleView",
            "_model_name": "DescriptionStyleModel",
            "description_width": "",
            "_view_module": "@jupyter-widgets/base",
            "_model_module_version": "1.5.0",
            "_view_count": null,
            "_view_module_version": "1.2.0",
            "_model_module": "@jupyter-widgets/controls"
          }
        },
        "785147cd99ae4b248c475a0b388d0eb4": {
          "model_module": "@jupyter-widgets/base",
          "model_name": "LayoutModel",
          "state": {
            "_view_name": "LayoutView",
            "grid_template_rows": null,
            "right": null,
            "justify_content": null,
            "_view_module": "@jupyter-widgets/base",
            "overflow": null,
            "_model_module_version": "1.2.0",
            "_view_count": null,
            "flex_flow": null,
            "width": null,
            "min_width": null,
            "border": null,
            "align_items": null,
            "bottom": null,
            "_model_module": "@jupyter-widgets/base",
            "top": null,
            "grid_column": null,
            "overflow_y": null,
            "overflow_x": null,
            "grid_auto_flow": null,
            "grid_area": null,
            "grid_template_columns": null,
            "flex": null,
            "_model_name": "LayoutModel",
            "justify_items": null,
            "grid_row": null,
            "max_height": null,
            "align_content": null,
            "visibility": null,
            "align_self": null,
            "height": null,
            "min_height": null,
            "padding": null,
            "grid_auto_rows": null,
            "grid_gap": null,
            "max_width": null,
            "order": null,
            "_view_module_version": "1.2.0",
            "grid_template_areas": null,
            "object_position": null,
            "object_fit": null,
            "grid_auto_columns": null,
            "margin": null,
            "display": null,
            "left": null
          }
        },
        "277c2d6e1a344128ba279a6e78c8cbe2": {
          "model_module": "@jupyter-widgets/controls",
          "model_name": "HBoxModel",
          "state": {
            "_view_name": "HBoxView",
            "_dom_classes": [],
            "_model_name": "HBoxModel",
            "_view_module": "@jupyter-widgets/controls",
            "_model_module_version": "1.5.0",
            "_view_count": null,
            "_view_module_version": "1.5.0",
            "box_style": "",
            "layout": "IPY_MODEL_a807b67d475d4a38b767c316e7e1957c",
            "_model_module": "@jupyter-widgets/controls",
            "children": [
              "IPY_MODEL_52ebff04f13e42cd955c82c7eb5777e3",
              "IPY_MODEL_129dabd5b6344a20a57e27ff54b541f9"
            ]
          }
        },
        "a807b67d475d4a38b767c316e7e1957c": {
          "model_module": "@jupyter-widgets/base",
          "model_name": "LayoutModel",
          "state": {
            "_view_name": "LayoutView",
            "grid_template_rows": null,
            "right": null,
            "justify_content": null,
            "_view_module": "@jupyter-widgets/base",
            "overflow": null,
            "_model_module_version": "1.2.0",
            "_view_count": null,
            "flex_flow": null,
            "width": null,
            "min_width": null,
            "border": null,
            "align_items": null,
            "bottom": null,
            "_model_module": "@jupyter-widgets/base",
            "top": null,
            "grid_column": null,
            "overflow_y": null,
            "overflow_x": null,
            "grid_auto_flow": null,
            "grid_area": null,
            "grid_template_columns": null,
            "flex": null,
            "_model_name": "LayoutModel",
            "justify_items": null,
            "grid_row": null,
            "max_height": null,
            "align_content": null,
            "visibility": null,
            "align_self": null,
            "height": null,
            "min_height": null,
            "padding": null,
            "grid_auto_rows": null,
            "grid_gap": null,
            "max_width": null,
            "order": null,
            "_view_module_version": "1.2.0",
            "grid_template_areas": null,
            "object_position": null,
            "object_fit": null,
            "grid_auto_columns": null,
            "margin": null,
            "display": null,
            "left": null
          }
        },
        "52ebff04f13e42cd955c82c7eb5777e3": {
          "model_module": "@jupyter-widgets/controls",
          "model_name": "FloatProgressModel",
          "state": {
            "_view_name": "ProgressView",
            "style": "IPY_MODEL_0cbbcaa3d4df4d378ff3b334b7354e78",
            "_dom_classes": [],
            "description": "100%",
            "_model_name": "FloatProgressModel",
            "bar_style": "success",
            "max": 2000,
            "_view_module": "@jupyter-widgets/controls",
            "_model_module_version": "1.5.0",
            "value": 2000,
            "_view_count": null,
            "_view_module_version": "1.5.0",
            "orientation": "horizontal",
            "min": 0,
            "description_tooltip": null,
            "_model_module": "@jupyter-widgets/controls",
            "layout": "IPY_MODEL_6500a0d38e2a484cbc86a01e02e3e8c2"
          }
        },
        "129dabd5b6344a20a57e27ff54b541f9": {
          "model_module": "@jupyter-widgets/controls",
          "model_name": "HTMLModel",
          "state": {
            "_view_name": "HTMLView",
            "style": "IPY_MODEL_383f690cdf6e474ca267399b54c82a4f",
            "_dom_classes": [],
            "description": "",
            "_model_name": "HTMLModel",
            "placeholder": "​",
            "_view_module": "@jupyter-widgets/controls",
            "_model_module_version": "1.5.0",
            "value": " 2000/2000 [00:02&lt;00:00, 696.90epoch/s]",
            "_view_count": null,
            "_view_module_version": "1.5.0",
            "description_tooltip": null,
            "_model_module": "@jupyter-widgets/controls",
            "layout": "IPY_MODEL_e67d32c75a52456a817926c7ee6832b9"
          }
        },
        "0cbbcaa3d4df4d378ff3b334b7354e78": {
          "model_module": "@jupyter-widgets/controls",
          "model_name": "ProgressStyleModel",
          "state": {
            "_view_name": "StyleView",
            "_model_name": "ProgressStyleModel",
            "description_width": "initial",
            "_view_module": "@jupyter-widgets/base",
            "_model_module_version": "1.5.0",
            "_view_count": null,
            "_view_module_version": "1.2.0",
            "bar_color": null,
            "_model_module": "@jupyter-widgets/controls"
          }
        },
        "6500a0d38e2a484cbc86a01e02e3e8c2": {
          "model_module": "@jupyter-widgets/base",
          "model_name": "LayoutModel",
          "state": {
            "_view_name": "LayoutView",
            "grid_template_rows": null,
            "right": null,
            "justify_content": null,
            "_view_module": "@jupyter-widgets/base",
            "overflow": null,
            "_model_module_version": "1.2.0",
            "_view_count": null,
            "flex_flow": null,
            "width": null,
            "min_width": null,
            "border": null,
            "align_items": null,
            "bottom": null,
            "_model_module": "@jupyter-widgets/base",
            "top": null,
            "grid_column": null,
            "overflow_y": null,
            "overflow_x": null,
            "grid_auto_flow": null,
            "grid_area": null,
            "grid_template_columns": null,
            "flex": null,
            "_model_name": "LayoutModel",
            "justify_items": null,
            "grid_row": null,
            "max_height": null,
            "align_content": null,
            "visibility": null,
            "align_self": null,
            "height": null,
            "min_height": null,
            "padding": null,
            "grid_auto_rows": null,
            "grid_gap": null,
            "max_width": null,
            "order": null,
            "_view_module_version": "1.2.0",
            "grid_template_areas": null,
            "object_position": null,
            "object_fit": null,
            "grid_auto_columns": null,
            "margin": null,
            "display": null,
            "left": null
          }
        },
        "383f690cdf6e474ca267399b54c82a4f": {
          "model_module": "@jupyter-widgets/controls",
          "model_name": "DescriptionStyleModel",
          "state": {
            "_view_name": "StyleView",
            "_model_name": "DescriptionStyleModel",
            "description_width": "",
            "_view_module": "@jupyter-widgets/base",
            "_model_module_version": "1.5.0",
            "_view_count": null,
            "_view_module_version": "1.2.0",
            "_model_module": "@jupyter-widgets/controls"
          }
        },
        "e67d32c75a52456a817926c7ee6832b9": {
          "model_module": "@jupyter-widgets/base",
          "model_name": "LayoutModel",
          "state": {
            "_view_name": "LayoutView",
            "grid_template_rows": null,
            "right": null,
            "justify_content": null,
            "_view_module": "@jupyter-widgets/base",
            "overflow": null,
            "_model_module_version": "1.2.0",
            "_view_count": null,
            "flex_flow": null,
            "width": null,
            "min_width": null,
            "border": null,
            "align_items": null,
            "bottom": null,
            "_model_module": "@jupyter-widgets/base",
            "top": null,
            "grid_column": null,
            "overflow_y": null,
            "overflow_x": null,
            "grid_auto_flow": null,
            "grid_area": null,
            "grid_template_columns": null,
            "flex": null,
            "_model_name": "LayoutModel",
            "justify_items": null,
            "grid_row": null,
            "max_height": null,
            "align_content": null,
            "visibility": null,
            "align_self": null,
            "height": null,
            "min_height": null,
            "padding": null,
            "grid_auto_rows": null,
            "grid_gap": null,
            "max_width": null,
            "order": null,
            "_view_module_version": "1.2.0",
            "grid_template_areas": null,
            "object_position": null,
            "object_fit": null,
            "grid_auto_columns": null,
            "margin": null,
            "display": null,
            "left": null
          }
        }
      }
    }
  },
  "cells": [
    {
      "cell_type": "markdown",
      "metadata": {
        "id": "view-in-github",
        "colab_type": "text"
      },
      "source": [
        "<a href=\"https://colab.research.google.com/github/siddhantjain07/DeepLearning/blob/master/VectorizedFeedForwardNetowrks.ipynb\" target=\"_parent\"><img src=\"https://colab.research.google.com/assets/colab-badge.svg\" alt=\"Open In Colab\"/></a>"
      ]
    },
    {
      "cell_type": "code",
      "metadata": {
        "id": "QSbxrvnHuv3y",
        "colab_type": "code",
        "colab": {}
      },
      "source": [
        "import numpy as np\n",
        "import matplotlib.pyplot as plt\n",
        "import matplotlib.colors\n",
        "import pandas as pd\n",
        "from sklearn.model_selection import train_test_split\n",
        "from sklearn.metrics import accuracy_score, mean_squared_error, log_loss\n",
        "from tqdm.notebook import tqdm\n",
        "import seaborn as sns \n",
        "import imageio\n",
        "import time \n",
        "from IPython.display import HTML\n",
        "\n",
        "from sklearn.preprocessing import OneHotEncoder\n",
        "from sklearn.datasets import make_blobs"
      ],
      "execution_count": 14,
      "outputs": []
    },
    {
      "cell_type": "code",
      "metadata": {
        "id": "Y89zJHOrwl8O",
        "colab_type": "code",
        "colab": {}
      },
      "source": [
        "my_cmap = matplotlib.colors.LinearSegmentedColormap.from_list(\"\", [\"red\", \"yellow\", \"green\"])"
      ],
      "execution_count": 15,
      "outputs": []
    },
    {
      "cell_type": "code",
      "metadata": {
        "id": "uZ59uOurw5Hp",
        "colab_type": "code",
        "colab": {}
      },
      "source": [
        "np.random.seed(0)"
      ],
      "execution_count": 16,
      "outputs": []
    },
    {
      "cell_type": "code",
      "metadata": {
        "id": "h2helGwA3dNn",
        "colab_type": "code",
        "colab": {}
      },
      "source": [
        "sns.set()"
      ],
      "execution_count": 17,
      "outputs": []
    },
    {
      "cell_type": "markdown",
      "metadata": {
        "id": "02SUgIMVw-il",
        "colab_type": "text"
      },
      "source": [
        "#Testing Vectorization"
      ]
    },
    {
      "cell_type": "code",
      "metadata": {
        "id": "eZoX9KUlw9aC",
        "colab_type": "code",
        "colab": {}
      },
      "source": [
        "N = 100\n",
        "M = 200\n",
        "a = np.random.randn(N, M)\n",
        "b = np.random.randn(N, M)\n",
        "c = np.zeros((N, M))"
      ],
      "execution_count": null,
      "outputs": []
    },
    {
      "cell_type": "code",
      "metadata": {
        "id": "ZwpV6e2FyCCj",
        "colab_type": "code",
        "colab": {
          "base_uri": "https://localhost:8080/",
          "height": 50
        },
        "outputId": "5c62235c-a622-4161-f51c-905473d2970a"
      },
      "source": [
        "#magic command for ipython ntbks, used to count time for excecution of a particular cell\n",
        "%%time\n",
        "for i in range(N):\n",
        "  for j in range(M):\n",
        "    c[i, j] = a[i, j] * b[i, j]"
      ],
      "execution_count": null,
      "outputs": [
        {
          "output_type": "stream",
          "text": [
            "CPU times: user 21.1 ms, sys: 835 µs, total: 22 ms\n",
            "Wall time: 24 ms\n"
          ],
          "name": "stdout"
        }
      ]
    },
    {
      "cell_type": "code",
      "metadata": {
        "id": "g8iwvyisyPcw",
        "colab_type": "code",
        "colab": {
          "base_uri": "https://localhost:8080/",
          "height": 50
        },
        "outputId": "15a656f9-6604-4b02-de9a-9429e146f923"
      },
      "source": [
        "%%time \n",
        "c = a * b"
      ],
      "execution_count": null,
      "outputs": [
        {
          "output_type": "stream",
          "text": [
            "CPU times: user 442 µs, sys: 0 ns, total: 442 µs\n",
            "Wall time: 275 µs\n"
          ],
          "name": "stdout"
        }
      ]
    },
    {
      "cell_type": "code",
      "metadata": {
        "id": "hXjiDvHtzzOj",
        "colab_type": "code",
        "colab": {
          "base_uri": "https://localhost:8080/",
          "height": 50
        },
        "outputId": "22c5a7d8-afa5-485c-b2fa-99b06e2ab4ca"
      },
      "source": [
        "%%time \n",
        "for i in range(N):\n",
        "  for j in range(M):\n",
        "    c[i, j] = np.sin(a[i, j])"
      ],
      "execution_count": null,
      "outputs": [
        {
          "output_type": "stream",
          "text": [
            "CPU times: user 48.8 ms, sys: 705 µs, total: 49.5 ms\n",
            "Wall time: 50.2 ms\n"
          ],
          "name": "stdout"
        }
      ]
    },
    {
      "cell_type": "code",
      "metadata": {
        "id": "BeIwt1nw1osn",
        "colab_type": "code",
        "colab": {
          "base_uri": "https://localhost:8080/"
        },
        "outputId": "43f0b4af-e7c8-4860-ad19-296b8ffe006f"
      },
      "source": [
        "%%time\n",
        "c = np.sin(a)"
      ],
      "execution_count": null,
      "outputs": [
        {
          "output_type": "stream",
          "text": [
            "CPU times: user 541 µs, sys: 697 µs, total: 1.24 ms\n",
            "Wall time: 1.2 ms\n"
          ],
          "name": "stdout"
        }
      ]
    },
    {
      "cell_type": "markdown",
      "metadata": {
        "id": "PjsFPE3H2Voi",
        "colab_type": "text"
      },
      "source": [
        "#Generating Data\n"
      ]
    },
    {
      "cell_type": "code",
      "metadata": {
        "id": "fctFtUuJ1sQh",
        "colab_type": "code",
        "colab": {
          "base_uri": "https://localhost:8080/",
          "height": 34
        },
        "outputId": "810d11ce-c46f-488c-b87a-220431eadac2"
      },
      "source": [
        "data, labels = make_blobs(n_samples=1000, n_features=2, centers=4, random_state=0)\n",
        "print(data.shape, labels.shape)"
      ],
      "execution_count": null,
      "outputs": [
        {
          "output_type": "stream",
          "text": [
            "(1000, 2) (1000,)\n"
          ],
          "name": "stdout"
        }
      ]
    },
    {
      "cell_type": "code",
      "metadata": {
        "id": "TOjlrfuf3KjR",
        "colab_type": "code",
        "colab": {
          "base_uri": "https://localhost:8080/",
          "height": 268
        },
        "outputId": "f930f41e-2c85-4c5d-da14-3f64f30ff22e"
      },
      "source": [
        "plt.scatter(data[:,0], data[:,1], c=labels, cmap=my_cmap)\n",
        "plt.show()"
      ],
      "execution_count": null,
      "outputs": [
        {
          "output_type": "display_data",
          "data": {
            "image/png": "[encoded data removed]",
            "text/plain": [
              "<Figure size 432x288 with 1 Axes>"
            ]
          },
          "metadata": {
            "tags": []
          }
        }
      ]
    },
    {
      "cell_type": "code",
      "metadata": {
        "id": "_8YCFlw93W_1",
        "colab_type": "code",
        "colab": {}
      },
      "source": [
        "labels_orig = labels\n",
        "labels = np.mod(labels_orig, 2)"
      ],
      "execution_count": null,
      "outputs": []
    },
    {
      "cell_type": "code",
      "metadata": {
        "id": "yHorws9f3nhe",
        "colab_type": "code",
        "colab": {
          "base_uri": "https://localhost:8080/",
          "height": 268
        },
        "outputId": "7b5c7e65-f2ad-4ebd-f736-51148cc6e399"
      },
      "source": [
        "plt.scatter(data[:,0], data[:,1], c=labels, cmap=my_cmap)\n",
        "plt.show()"
      ],
      "execution_count": null,
      "outputs": [
        {
          "output_type": "display_data",
          "data": {
            "image/png": "[encoded data removed]",
            "text/plain": [
              "<Figure size 432x288 with 1 Axes>"
            ]
          },
          "metadata": {
            "tags": []
          }
        }
      ]
    },
    {
      "cell_type": "markdown",
      "metadata": {
        "id": "wz76jQn436Og",
        "colab_type": "text"
      },
      "source": [
        "#Multi-Class Classification"
      ]
    },
    {
      "cell_type": "code",
      "metadata": {
        "id": "silBfn6H3wkz",
        "colab_type": "code",
        "colab": {
          "base_uri": "https://localhost:8080/",
          "height": 34
        },
        "outputId": "30a27331-df9a-48ec-d121-4b865a46a896"
      },
      "source": [
        "X_train, X_val, Y_train, Y_val = train_test_split(data, labels_orig,  stratify=labels_orig, random_state=0)\n",
        "print(X_train.shape, X_val.shape, Y_train.shape, Y_val.shape, labels_orig.shape)"
      ],
      "execution_count": null,
      "outputs": [
        {
          "output_type": "stream",
          "text": [
            "(750, 2) (250, 2) (750,) (250,) (1000,)\n"
          ],
          "name": "stdout"
        }
      ]
    },
    {
      "cell_type": "code",
      "metadata": {
        "id": "m0h1mkbM4qOz",
        "colab_type": "code",
        "colab": {
          "base_uri": "https://localhost:8080/",
          "height": 34
        },
        "outputId": "4972ab16-ad5a-462c-eccb-6c2a30cd394b"
      },
      "source": [
        "enc = OneHotEncoder()\n",
        "# 0 -> [1 0 0 0] , 1 -> [0 1 0 0] , 2 -> [0 0 1 0] , 3 -> [0 0 0 1]\n",
        "Y_OH_train = enc.fit_transform(np.expand_dims(Y_train,1)).toarray()\n",
        "Y_OH_val = enc.fit_transform(np.expand_dims(Y_val, 1)).toarray()\n",
        "print(Y_OH_train.shape, Y_OH_val.shape)"
      ],
      "execution_count": null,
      "outputs": [
        {
          "output_type": "stream",
          "text": [
            "(750, 4) (250, 4)\n"
          ],
          "name": "stdout"
        }
      ]
    },
    {
      "cell_type": "code",
      "metadata": {
        "id": "b3x-g8BE5q54",
        "colab_type": "code",
        "colab": {
          "base_uri": "https://localhost:8080/",
          "height": 118
        },
        "outputId": "091cc179-3e3d-4fb3-e514-85d39bb77046"
      },
      "source": [
        "W1 = np.random.randn(2,2)\n",
        "W2 = np.random.randn(4,2)\n",
        "print(W1)\n",
        "print(W2)"
      ],
      "execution_count": null,
      "outputs": [
        {
          "output_type": "stream",
          "text": [
            "[[-1.93950036  0.73885045]\n",
            " [ 1.39468453 -0.81358502]]\n",
            "[[-0.818822   -0.1027978 ]\n",
            " [ 1.23934523  0.3642774 ]\n",
            " [-1.16663743 -0.50382808]\n",
            " [ 0.11141039 -1.53470286]]\n"
          ],
          "name": "stdout"
        }
      ]
    },
    {
      "cell_type": "markdown",
      "metadata": {
        "id": "B6HuNIb96scn",
        "colab_type": "text"
      },
      "source": [
        "#Scalar Version"
      ]
    },
    {
      "cell_type": "code",
      "metadata": {
        "id": "x8mAUsr66kt2",
        "colab_type": "code",
        "colab": {}
      },
      "source": [
        "class FF_MultiClass_Scalar:\n",
        "\n",
        "  def __init__(self, W1, W2):\n",
        "    self.w1 = W1[0][0].copy()\n",
        "    self.w2 = W1[0][1].copy()\n",
        "    self.w3 = W1[1][0].copy()\n",
        "    self.w4 = W1[1][1].copy()\n",
        "    self.w5 = W2[0][0].copy()\n",
        "    self.w6 = W2[0][1].copy()\n",
        "    self.w7 = W2[1][0].copy()\n",
        "    self.w8 = W2[1][1].copy()\n",
        "    self.w9 = W2[2][0].copy()\n",
        "    self.w10 = W2[2][1].copy()\n",
        "    self.w11 = W2[3][0].copy()\n",
        "    self.w12 = W2[3][1].copy()\n",
        "    self.b1 = 0\n",
        "    self.b2 = 0\n",
        "    self.b3 = 0\n",
        "    self.b4 = 0\n",
        "    self.b5 = 0\n",
        "    self.b6 = 0\n",
        "\n",
        "\n",
        "\n",
        "\n",
        "  def sigmoid(self, x):\n",
        "    return 1.0/(1.0 + np.exp(-x))\n",
        "\n",
        "\n",
        "\n",
        "  def forward_pass(self, x):\n",
        "    #input layer\n",
        "    self.x1, self.x2 = x\n",
        "\n",
        "    #hidden layer\n",
        "    self.z1 = self.w1*self.x1 + self.w2*self.x2 + self.b1\n",
        "    self.a1 = self.sigmoid(self.z1)\n",
        "    self.z2 = self.w3*self.x1 + self.w4*self.x2 + self.b2\n",
        "    self.a2 = self.sigmoid(self.z2)\n",
        "\n",
        "    #Output layer\n",
        "    self.z3 = self.w5*self.a1 + self.w6*self.a2 + self.b3\n",
        "    self.z4 = self.w7*self.a1 + self.w8*self.a2 + self.b4\n",
        "    self.z5 = self.w9*self.a1 + self.w10*self.a2 + self.b5\n",
        "    self.z6 = self.w11*self.a1 + self.w12*self.a2 + self.b6\n",
        "    sum_exps = np.sum([np.exp(self.z3), np.exp(self.z4), np.exp(self.z5), np.exp(self.z6)])\n",
        "    self.a3 = np.exp(self.z3) / sum_exps\n",
        "    self.a4 = np.exp(self.z4) / sum_exps\n",
        "    self.a5 = np.exp(self.z5) / sum_exps\n",
        "    self.a6 = np.exp(self.z6) / sum_exps\n",
        "\n",
        "    return np.array([self.a3, self.a4, self.a5, self.a6])\n",
        "\n",
        "\n",
        "\n",
        "  def grad(self, x, y):\n",
        "    self.forward_pass(x)\n",
        "    self.y1, self.y2, self.y3, self.y4 = y\n",
        "\n",
        "    self.dz3 = (self.a3 - self.y1)\n",
        "    self.dz4 = (self.a4 - self.y2)\n",
        "    self.dz5 = (self.a5 - self.y3)\n",
        "    self.dz6 = (self.a6 - self.y4)\n",
        "\n",
        "    self.dw5 = self.dz3 * self.a1\n",
        "    self.dw6 = self.dz3 * self.a2\n",
        "    self.db3 = self.dz3\n",
        "\n",
        "    self.dw7 = self.dz4 * self.a1\n",
        "    self.dw8 = self.dz4 * self.a2\n",
        "    self.db4 = self.dz4\n",
        "\n",
        "    self.dw9 = self.dz5 * self.a1\n",
        "    self.dw10 = self.dz5 * self.a2\n",
        "    self.db5 = self.dz5\n",
        "\n",
        "    self.dw11 = self.dz6 * self.a1\n",
        "    self.dw12 = self.dz6 * self.a2\n",
        "    self.db6 = self.dz6\n",
        "\n",
        "    self.da1 = self.dz3*self.w5 + self.dz4*self.w7 + self.dz5*self.w9 + self.dz6*self.w11\n",
        "    self.da2 = self.dz3*self.w6 + self.dz4*self.w8 + self.dz5*self.w10 + self.dz6*self.w12\n",
        "\n",
        "    self.dz1 = self.da1 * self.a1 * (1 - self.a1)\n",
        "    self.dz2 = self.da2 * self.a2 * (1 - self.a2)\n",
        "\n",
        "    self.dw1 = self.dz1 * self.x1\n",
        "    self.dw2 = self.dz1 * self.x2\n",
        "    self.db1 = self.dz1\n",
        "\n",
        "    self.dw3 = self.dz2 * self.x1\n",
        "    self.dw4 = self.dz2 * self.x2\n",
        "    self.db2 = self.dz2\n",
        "\n",
        "\n",
        "\n",
        "  def fit(self, X, Y, epochs=1, learning_rate=1, display_loss=False, display_weight=False):\n",
        "      \n",
        "    if display_loss:\n",
        "      loss = {}\n",
        "    \n",
        "    for i in tqdm(range(epochs), total=epochs, unit=\"epoch\"):\n",
        "      dw1, dw2, dw3, dw4, dw5, dw6, dw7, dw8, dw9, dw10, dw11, dw12, db1, db2, db3, db4, db5, db6  = [0]*18\n",
        "      for x, y in zip(X, Y):\n",
        "        self.grad(x, y)\n",
        "        dw1 += self.dw1\n",
        "        dw2 += self.dw2\n",
        "        dw3 += self.dw3\n",
        "        dw4 += self.dw4\n",
        "        dw5 += self.dw5\n",
        "        dw6 += self.dw6\n",
        "        dw7 += self.dw7\n",
        "        dw8 += self.dw8\n",
        "        dw9 += self.dw9\n",
        "        dw10 += self.dw10\n",
        "        dw11 += self.dw11\n",
        "        dw12 += self.dw12\n",
        "        db1 += self.db1\n",
        "        db2 += self.db2\n",
        "        db3 += self.db3\n",
        "        db4 += self.db4\n",
        "        db2 += self.db5\n",
        "        db3 += self.db6\n",
        "        \n",
        "      m = X.shape[0]\n",
        "      self.w1 -= (learning_rate * (dw1 / m))\n",
        "      self.w2 -= (learning_rate * (dw2 / m))\n",
        "      self.w3 -= (learning_rate * (dw3 / m))\n",
        "      self.w4 -= (learning_rate * (dw4 / m))\n",
        "      self.w5 -= (learning_rate * (dw5 / m))\n",
        "      self.w6 -= (learning_rate * (dw6 / m))\n",
        "      self.w7 -= (learning_rate * (dw7 / m))\n",
        "      self.w8 -= (learning_rate * (dw8 / m))\n",
        "      self.w9 -= (learning_rate * (dw9 / m))\n",
        "      self.w10 -= (learning_rate * (dw10 / m))\n",
        "      self.w11 -= (learning_rate * (dw11 / m))\n",
        "      self.w12 -= (learning_rate * (dw12 / m))\n",
        "      self.b1 -= (learning_rate * (db1 / m))\n",
        "      self.b2 -= (learning_rate * (db2 / m))\n",
        "      self.b3 -= (learning_rate * (db3 / m))\n",
        "      self.b4 -= (learning_rate * (db4 / m))\n",
        "      self.b5 -= (learning_rate * (db5 / m))\n",
        "      self.b6 -= (learning_rate * (db6 / m))\n",
        "      \n",
        "      if display_loss:\n",
        "        Y_pred = self.predict(X)\n",
        "        loss[i] = log_loss(np.argmax(Y, axis=1), Y_pred)\n",
        "    \n",
        "    if display_loss:\n",
        "      Wt1 = [[self.w1, self.w3], [self.w2, self.w4]]\n",
        "      Wt2 = [[self.w5, self.w6, self.w7, self.w8], [self.w9, self.w10, self.w11, self.w12]]\n",
        "      plt.plot(list(loss.values()))\n",
        "      plt.xlabel('Epochs')\n",
        "      plt.ylabel('Log Loss')\n",
        "      plt.show()\n",
        "      \n",
        "\n",
        "\n",
        "  def predict(self, X):\n",
        "    Y_pred = []\n",
        "    for x in X:\n",
        "      y_pred = self.forward_pass(x)\n",
        "      Y_pred.append(y_pred)\n",
        "    return np.array(Y_pred)\n"
      ],
      "execution_count": null,
      "outputs": []
    },
    {
      "cell_type": "markdown",
      "metadata": {
        "id": "qTGIwgNbEiZ7",
        "colab_type": "text"
      },
      "source": [
        "#Weight Vectorized Version\n"
      ]
    },
    {
      "cell_type": "code",
      "metadata": {
        "id": "w9HMuMfoEJRh",
        "colab_type": "code",
        "colab": {}
      },
      "source": [
        "class FF_MultiClass_WeightsVectorized:\n",
        "\n",
        "  def __init__(self, W1, W2):\n",
        "    self.W1 = W1.copy()\n",
        "    self.W2 = W2.copy()\n",
        "    self.B1 = np.zeros((2,1))\n",
        "    self.B2 = np.zeros((4,1))\n",
        "\n",
        "  def sigmoid(self, x):\n",
        "    return 1.0/(1.0 + np.exp(-x))\n",
        "  \n",
        "  def softmax(self, x):\n",
        "    exps = np.exp(x)\n",
        "    return exps / np.sum(exps)\n",
        "\n",
        "  def forward_pass(self, x):\n",
        "    x = x.reshape(-1, 1)                                          # i/p shape -> (2 , 1)    -> column vector \n",
        "    self.Z1 = np.matmul(self.W1, x) + self.B1                     #  (2 , 2) * (2 , 1) + (2 , 1) -> (2 , 1)\n",
        "    self.A1 = self.sigmoid(self.Z1)                               # g(2 , 1)                     -> (2 , 1)\n",
        "    self.Z2 = np.matmul(self.W2, self.A1) + self.B2               #  (4 , 2) * (2 , 1) + (4 , 1) -> (4 , 1)\n",
        "    self.A2 = self.softmax(self.Z2)                               # g(4 , 1)                     -> (4 , 1)\n",
        "    return (self.A2).reshape(1,4)\n",
        "    \n",
        "  def grad_sigmoid(self, x):\n",
        "    return x*(1-x)\n",
        "\n",
        "  def grad(self, x, y):\n",
        "    self.forward_pass(x)\n",
        "    x = x.reshape(-1, 1)                                          # (2 , 1)\n",
        "    y = y.reshape(-1, 1)                                          # (4 , 1)\n",
        "\n",
        "    self.dZ2 = self.A2 - y                                        # (4 , 1) - (4 , 1) -> (4 , 1)\n",
        "\n",
        "    self.dW2 = np.matmul(self.dZ2, self.A1.T)                               # dZ2 (4 , 1) , A1 (2 , 1) -> A1.T (1 , 2)    --->   (4 , 1)*(1 , 2)  -> (4 , 2)\n",
        "    self.dB2 = self.dZ2                                           # dZ2 -> (4 , 1)\n",
        "    self.dA1 = np.matmul(self.W2.T, self.dZ2)                     # W2 (4 , 2) -> W2.T (2 , 4) , dZ2 (4 , 1)    --->   (2 , 4)*(4 , 1)  -> (2 , 1) <- dA1 \n",
        "    self.dZ1 = np.multiply(self.dA1, self.grad_sigmoid(self.A1))  # (2 , 1)\n",
        "\n",
        "    self.dW1 = np.matmul(x, self.dZ1.T)                           # x (2 , 1) , dZ1 (2 , 1) -> dZ1.T (1 , 2)    --->   (2 , 1)*(1 , 2)  -> (2 , 2) <- dW1\n",
        "    self.dB1 = self.dZ1                                           # (2 , 1)\n",
        "\n",
        "  def fit(self, X, Y, epochs=1, learning_rate=1, display_loss=False):\n",
        "      \n",
        "    if display_loss:\n",
        "      loss = {}\n",
        "    \n",
        "    for i in tqdm(range(epochs), total=epochs, unit=\"epoch\"):\n",
        "      dW1 = np.zeros((2,2))\n",
        "      dW2 = np.zeros((4,2))\n",
        "      dB1 = np.zeros((2,1))\n",
        "      dB2 = np.zeros((4,1))\n",
        "      for x, y in zip(X, Y):\n",
        "        self.grad(x, y)\n",
        "        dW1 += self.dW1\n",
        "        dW2 += self.dW2\n",
        "        dB1 += self.dB1\n",
        "        dB2 += self.dB2  \n",
        "        \n",
        "      m = X.shape[0]\n",
        "      self.W2 = self.W2 - learning_rate * (dW2/m)\n",
        "      self.B2 = self.B2 - learning_rate * (dB2/m)\n",
        "      self.W1 = self.W1 - learning_rate * (dW1/m)\n",
        "      self.B1 = self.B1 - learning_rate * (dB1/m)\n",
        "\n",
        "      if display_loss:\n",
        "        Y_pred = self.predict(X)\n",
        "        loss[i] = log_loss(np.argmax(Y, axis=1), Y_pred)\n",
        "        \n",
        "    \n",
        "    if display_loss:\n",
        "      plt.plot(list(loss.values()))\n",
        "      plt.xlabel('Epochs')\n",
        "      plt.ylabel('Log Loss')\n",
        "      plt.show()\n",
        "      \n",
        "  def predict(self, X):\n",
        "    Y_pred = []\n",
        "    for x in X:\n",
        "      y_pred = self.forward_pass(x)\n",
        "      Y_pred.append(y_pred)\n",
        "    return np.array(Y_pred).squeeze()"
      ],
      "execution_count": null,
      "outputs": []
    },
    {
      "cell_type": "code",
      "metadata": {
        "id": "3zlxL_ysGqtQ",
        "colab_type": "code",
        "colab": {}
      },
      "source": [
        "class FF_MultiClass_InputWeightsVectorized:\n",
        "\n",
        "  def __init__(self, W1, W2):\n",
        "    self.W1 = W1.copy()\n",
        "    self.W2 = W2.copy()\n",
        "    self.B1 = np.zeros((2,1))\n",
        "    self.B2 = np.zeros((4,1))\n",
        "\n",
        "  def sigmoid(self, X):\n",
        "    return 1.0/(1.0 + np.exp(-X))\n",
        "  \n",
        "  def softmax(self, X):\n",
        "    exps = np.exp(X)\n",
        "    return exps / np.sum(exps, axis=0)\n",
        "\n",
        "  def forward_pass(self, X):\n",
        "    # i/p shape -> (2 , N)    -> column vectors for each example \n",
        "    X = X.T\n",
        "    self.Z1 = np.matmul(self.W1, X) + self.B1                     #  (2 , 2) * (2 , N) + (2 , N) -> (2 , N)\n",
        "    self.A1 = self.sigmoid(self.Z1)                               # g(2 , N)                     -> (2 , N)\n",
        "    self.Z2 = np.matmul(self.W2, self.A1) + self.B2               #  (4 , 2) * (2 , N) + (4 , N) -> (4 , N)\n",
        "    self.A2 = self.softmax(self.Z2)                               # g(4 , N)                     -> (4 , N)\n",
        "    return self.A2.T\n",
        "    \n",
        "  def grad_sigmoid(self, X):\n",
        "    return X*(1-X)\n",
        "\n",
        "  def grad(self, X, Y):\n",
        "    self.forward_pass(X)\n",
        "    X = X.T    # (2 , N)  ->   Input \n",
        "    Y = Y.T    # (4 , N)  ->   output\n",
        "\n",
        "    self.dZ2 = self.A2 - Y                                        # (4 , N) - (4 , N) -> (4 , N)\n",
        "\n",
        "    self.dW2 = np.matmul(self.dZ2, self.A1.T)                     # dZ2 (4 , N) , A1 (2 , N) -> A1.T (N , 2)    --->   (4 , N)*(N , 2)  -> (4 , 2)\n",
        "    self.dB2 = np.sum(self.dZ2, axis=1).reshape(-1,1)             # dZ2 (4 , N) -> (4 , 1)\n",
        "    self.dA1 = np.matmul(self.W2.T, self.dZ2)                     # W2 (4 , 2) -> W2.T (2 , 4) , dZ2 (4 , 1)    --->   (2 , 4)*(4 , 1)  -> (2 , 1) <- dA1 \n",
        "    self.dZ1 = np.multiply(self.dA1, self.grad_sigmoid(self.A1))  # (2 , N)\n",
        "\n",
        "    self.dW1 = np.matmul(X, self.dZ1.T)                           # x (2 , N) , dZ1 (2 , N) -> dZ1.T (N , 2)    --->   (2 , N)*(N , 2)  -> (2 , 2) <- dW1\n",
        "    self.dB1 = np.sum(self.dZ1, axis=1).reshape(-1,1)             # (2 , N) -> (2 , 1)\n",
        " \n",
        "  def fit(self, X, Y, epochs=1, learning_rate=1, display_loss=False):\n",
        "      \n",
        "    if display_loss:\n",
        "      loss = {}\n",
        "    \n",
        "    for i in tqdm(range(epochs), total=epochs, unit=\"epoch\"):\n",
        "      self.grad(X, Y) # X -> (2, N), Y -> (4, N)\n",
        "        \n",
        "      m = X.shape[0]\n",
        "      self.W2 -= learning_rate * (self.dW2/m)\n",
        "      self.B2 -= learning_rate * (self.dB2/m)\n",
        "      self.W1 -= learning_rate * (self.dW1/m)\n",
        "      self.B1 -= learning_rate * (self.dB1/m)\n",
        "\n",
        "      if display_loss:\n",
        "        Y_pred = self.predict(X)\n",
        "        loss[i] = log_loss(np.argmax(Y, axis=1), Y_pred)\n",
        "    \n",
        "    \n",
        "    if display_loss:\n",
        "      plt.plot(list(loss.values()))\n",
        "      plt.xlabel('Epochs')\n",
        "      plt.ylabel('Log Loss')\n",
        "      plt.show()\n",
        "      \n",
        "  \n",
        "  def predict(self, X):\n",
        "    Y_pred = self.forward_pass(X)\n",
        "    return np.array(Y_pred).squeeze()"
      ],
      "execution_count": null,
      "outputs": []
    },
    {
      "cell_type": "code",
      "metadata": {
        "id": "IH41FFwbTHy6",
        "colab_type": "code",
        "colab": {
          "base_uri": "https://localhost:8080/",
          "height": 34
        },
        "outputId": "cd4453ec-d7f2-4bed-d996-1db9aadde4f6"
      },
      "source": [
        "print(X_train.shape, X_val.shape, Y_OH_train.shape, Y_OH_val.shape)"
      ],
      "execution_count": null,
      "outputs": [
        {
          "output_type": "stream",
          "text": [
            "(750, 2) (250, 2) (750, 4) (250, 4)\n"
          ],
          "name": "stdout"
        }
      ]
    },
    {
      "cell_type": "code",
      "metadata": {
        "id": "Wg6gABoMR__a",
        "colab_type": "code",
        "colab": {}
      },
      "source": [
        "#X_train = X_train.T\n",
        "#X_val = X_val.T\n",
        "#Y_OH_train = Y_OH_train.T\n",
        "#Y_OH_val = Y_OH_val.T"
      ],
      "execution_count": null,
      "outputs": []
    },
    {
      "cell_type": "code",
      "metadata": {
        "id": "ahvO9cMqUQlI",
        "colab_type": "code",
        "colab": {
          "base_uri": "https://localhost:8080/",
          "height": 34
        },
        "outputId": "6297d6ce-bb5e-442f-eaa8-a3371cd4b4fd"
      },
      "source": [
        "print(X_train.shape, X_val.shape, Y_OH_train.shape, Y_OH_val.shape)"
      ],
      "execution_count": null,
      "outputs": [
        {
          "output_type": "stream",
          "text": [
            "(750, 2) (250, 2) (750, 4) (250, 4)\n"
          ],
          "name": "stdout"
        }
      ]
    },
    {
      "cell_type": "code",
      "metadata": {
        "id": "58gxN4XvURzf",
        "colab_type": "code",
        "colab": {
          "base_uri": "https://localhost:8080/",
          "height": 1000,
          "referenced_widgets": [
            "e6284f68aa904ba3a5e3ce02860affe5",
            "076792baf4ee4de8bcc86aab0de42706",
            "4493b615e72a48f28b3dd05c8acc62d9",
            "fa7471c029ed447fb8863b93c1d1179f",
            "0c706907f30347d08aaa60e4fa2d4f7a",
            "6e93c90df9044350bbca79df16f1ca88",
            "1314f42e815e4f89827287d1b7ae72b5",
            "6a4cff337dbc44d99232ad1cf5aea40e",
            "40d721be774e4c94b9090527a31721d7",
            "83dcd08c7c774e51b1bfe6ba7832b0e5",
            "f3ee2910929147a7980c426d899fb192",
            "85772e264d5f4276a10d3c2c3ffe33d6",
            "3c60442d5ff44cc794a5e54e49fcb280",
            "d38c4cee2e7a4618a6713c7c69b3b981",
            "40d3bdd5c1884541bb3cf9e95c759094",
            "785147cd99ae4b248c475a0b388d0eb4",
            "277c2d6e1a344128ba279a6e78c8cbe2",
            "a807b67d475d4a38b767c316e7e1957c",
            "52ebff04f13e42cd955c82c7eb5777e3",
            "129dabd5b6344a20a57e27ff54b541f9",
            "0cbbcaa3d4df4d378ff3b334b7354e78",
            "6500a0d38e2a484cbc86a01e02e3e8c2",
            "383f690cdf6e474ca267399b54c82a4f",
            "e67d32c75a52456a817926c7ee6832b9"
          ]
        },
        "outputId": "88d057e1-3a30-40c0-9d1f-a102cc6e81a6"
      },
      "source": [
        "models_init = [FF_MultiClass_Scalar(W1, W2), FF_MultiClass_WeightsVectorized(W1,W2), FF_MultiClass_InputWeightsVectorized(W1,W2)]\n",
        "models = []\n",
        "\n",
        "for idx, model in enumerate(models_init, start=1):\n",
        "  tic = time.time()\n",
        "  ffsn_multi_specific = model\n",
        "  ffsn_multi_specific.fit(X_train, Y_OH_train, epochs=2000, learning_rate=0.5, display_loss=True)\n",
        "  models.append(ffsn_multi_specific)\n",
        "  toc = time.time()\n",
        "  print(\"Time taken by model {} : {}\".format(idx, toc-tic))"
      ],
      "execution_count": null,
      "outputs": [
        {
          "output_type": "display_data",
          "data": {
            "application/vnd.jupyter.widget-view+json": {
              "model_id": "e6284f68aa904ba3a5e3ce02860affe5",
              "version_minor": 0,
              "version_major": 2
            },
            "text/plain": [
              "HBox(children=(FloatProgress(value=0.0, max=2000.0), HTML(value='')))"
            ]
          },
          "metadata": {
            "tags": []
          }
        },
        {
          "output_type": "stream",
          "text": [
            "\n"
          ],
          "name": "stdout"
        },
        {
          "output_type": "display_data",
          "data": {
            "image/png": "[encoded data removed]",
            "text/plain": [
              "<Figure size 432x288 with 1 Axes>"
            ]
          },
          "metadata": {
            "tags": []
          }
        },
        {
          "output_type": "stream",
          "text": [
            "Time taken by model 1 : 124.91296768188477\n"
          ],
          "name": "stdout"
        },
        {
          "output_type": "display_data",
          "data": {
            "application/vnd.jupyter.widget-view+json": {
              "model_id": "40d721be774e4c94b9090527a31721d7",
              "version_minor": 0,
              "version_major": 2
            },
            "text/plain": [
              "HBox(children=(FloatProgress(value=0.0, max=2000.0), HTML(value='')))"
            ]
          },
          "metadata": {
            "tags": []
          }
        },
        {
          "output_type": "stream",
          "text": [
            "\n"
          ],
          "name": "stdout"
        },
        {
          "output_type": "display_data",
          "data": {
            "image/png": "[encoded data removed]",
            "text/plain": [
              "<Figure size 432x288 with 1 Axes>"
            ]
          },
          "metadata": {
            "tags": []
          }
        },
        {
          "output_type": "stream",
          "text": [
            "Time taken by model 2 : 87.95269703865051\n"
          ],
          "name": "stdout"
        },
        {
          "output_type": "display_data",
          "data": {
            "application/vnd.jupyter.widget-view+json": {
              "model_id": "277c2d6e1a344128ba279a6e78c8cbe2",
              "version_minor": 0,
              "version_major": 2
            },
            "text/plain": [
              "HBox(children=(FloatProgress(value=0.0, max=2000.0), HTML(value='')))"
            ]
          },
          "metadata": {
            "tags": []
          }
        },
        {
          "output_type": "stream",
          "text": [
            "\n"
          ],
          "name": "stdout"
        },
        {
          "output_type": "display_data",
          "data": {
            "image/png": "[encoded data removed]",
            "text/plain": [
              "<Figure size 432x288 with 1 Axes>"
            ]
          },
          "metadata": {
            "tags": []
          }
        },
        {
          "output_type": "stream",
          "text": [
            "Time taken by model 3 : 3.1764473915100098\n"
          ],
          "name": "stdout"
        }
      ]
    },
    {
      "cell_type": "code",
      "metadata": {
        "id": "1UkjszfOb4vC",
        "colab_type": "code",
        "colab": {
          "base_uri": "https://localhost:8080/",
          "height": 168
        },
        "outputId": "34f57180-b98f-4ba2-a632-12a078fe7b67"
      },
      "source": [
        "for idx, model in enumerate(models, start=1):\n",
        "  Y_pred_train = model.predict(X_train)\n",
        "  Y_pred_train = np.argmax(Y_pred_train, 1)\n",
        "\n",
        "  Y_pred_val = model.predict(X_val)\n",
        "  Y_pred_val = np.argmax(Y_pred_val, 1)\n",
        "\n",
        "  accuracy_train = accuracy_score(Y_pred_train, Y_train)\n",
        "  accuracy_val = accuracy_score(Y_pred_val, Y_val)\n",
        "\n",
        "  print(\"Model {}\".format(idx))\n",
        "  print(\"Training accuracy\", round(accuracy_train, 2))\n",
        "  print(\"Validation accuracy\", round(accuracy_val, 2))"
      ],
      "execution_count": null,
      "outputs": [
        {
          "output_type": "stream",
          "text": [
            "Model 1\n",
            "Training accuracy 0.92\n",
            "Validation accuracy 0.93\n",
            "Model 2\n",
            "Training accuracy 0.69\n",
            "Validation accuracy 0.69\n",
            "Model 3\n",
            "Training accuracy 0.69\n",
            "Validation accuracy 0.69\n"
          ],
          "name": "stdout"
        }
      ]
    },
    {
      "cell_type": "code",
      "metadata": {
        "id": "TkSj4hn5fFfU",
        "colab_type": "code",
        "colab": {
          "base_uri": "https://localhost:8080/",
          "height": 268
        },
        "outputId": "f38eff73-df3e-415a-c6f0-f276d43650d5"
      },
      "source": [
        "plt.scatter(X_train[:,0], X_train[:,1], c=Y_pred_train, cmap=my_cmap, s=15*(np.abs(np.sign(Y_pred_train-Y_train))+.1))\n",
        "plt.show()"
      ],
      "execution_count": null,
      "outputs": [
        {
          "output_type": "display_data",
          "data": {
            "image/png": "[encoded data removed]",
            "text/plain": [
              "<Figure size 432x288 with 1 Axes>"
            ]
          },
          "metadata": {
            "tags": []
          }
        }
      ]
    },
    {
      "cell_type": "markdown",
      "metadata": {
        "id": "FYh60-Gh6eRQ",
        "colab_type": "text"
      },
      "source": [
        "## Exercises\n",
        "\n",
        "1. Replicate this vectorisation for the simple first network we saw earlier\n",
        "\n",
        "2. Extend this vectorisation for the generic feed forward class that we wrote with number of hidden layers and neurons per hidden layer as inputs\n",
        "\n",
        "3. Understand how the speedup changes as you increase the hidden layers - Keep the number of neurons per layer constant and increase the layers to see how the speed up changes"
      ]
    },
    {
      "cell_type": "code",
      "metadata": {
        "id": "4ZKKglhwimQa",
        "colab_type": "code",
        "colab": {
          "base_uri": "https://localhost:8080/",
          "height": 34
        },
        "outputId": "88b5d366-a9f2-436d-b4ad-28171a8f5893"
      },
      "source": [
        "data, labels = make_blobs(n_samples=1000, n_features=2, centers=4, random_state=0)\n",
        "print(data.shape, labels.shape)"
      ],
      "execution_count": 18,
      "outputs": [
        {
          "output_type": "stream",
          "text": [
            "(1000, 2) (1000,)\n"
          ],
          "name": "stdout"
        }
      ]
    },
    {
      "cell_type": "code",
      "metadata": {
        "id": "Oq9CoGyX9YzX",
        "colab_type": "code",
        "colab": {
          "base_uri": "https://localhost:8080/",
          "height": 268
        },
        "outputId": "0365d347-2af3-4855-fe87-4bb9b3ba110f"
      },
      "source": [
        "plt.scatter(data[:,0], data[:,1], c=labels, cmap=my_cmap)\n",
        "plt.show()"
      ],
      "execution_count": 19,
      "outputs": [
        {
          "output_type": "display_data",
          "data": {
            "image/png": "[encoded data removed]",
            "text/plain": [
              "<Figure size 432x288 with 1 Axes>"
            ]
          },
          "metadata": {
            "tags": []
          }
        }
      ]
    },
    {
      "cell_type": "code",
      "metadata": {
        "id": "_AXBQQ-e9htZ",
        "colab_type": "code",
        "colab": {}
      },
      "source": [
        "old_labels = labels\n",
        "labels = np.mod(old_labels, 2)"
      ],
      "execution_count": 20,
      "outputs": []
    },
    {
      "cell_type": "code",
      "metadata": {
        "id": "c1KPgYHo91G0",
        "colab_type": "code",
        "colab": {
          "base_uri": "https://localhost:8080/",
          "height": 268
        },
        "outputId": "952973d2-4eff-4157-c83c-cf59a5a07b4d"
      },
      "source": [
        "plt.scatter(data[:,0], data[:,1], c=labels, cmap=my_cmap)\n",
        "plt.show()"
      ],
      "execution_count": 21,
      "outputs": [
        {
          "output_type": "display_data",
          "data": {
            "image/png": "[encoded data removed]",
            "text/plain": [
              "<Figure size 432x288 with 1 Axes>"
            ]
          },
          "metadata": {
            "tags": []
          }
        }
      ]
    },
    {
      "cell_type": "code",
      "metadata": {
        "id": "vuJi4u_M96wE",
        "colab_type": "code",
        "colab": {
          "base_uri": "https://localhost:8080/",
          "height": 34
        },
        "outputId": "e2ceb515-f829-4939-fef4-74478bd1b6a2"
      },
      "source": [
        "X_train, X_val, Y_train, Y_val = train_test_split(data, labels, stratify=labels, random_state=0)\n",
        "print(X_train.shape, X_val.shape, Y_train.shape, Y_val.shape)"
      ],
      "execution_count": 22,
      "outputs": [
        {
          "output_type": "stream",
          "text": [
            "(750, 2) (250, 2) (750,) (250,)\n"
          ],
          "name": "stdout"
        }
      ]
    },
    {
      "cell_type": "code",
      "metadata": {
        "id": "44zQyasP-rKe",
        "colab_type": "code",
        "colab": {
          "base_uri": "https://localhost:8080/",
          "height": 132
        },
        "outputId": "3973059d-56a3-462e-a825-1780834a4d18"
      },
      "source": [
        "class Initial_Network_Vectorized:\n",
        "\n",
        "  def __init__(self):\n",
        "    self.W1 = np.random.randn(2, 2)\n",
        "    self.W2 = np.random.randn(1, 2)\n",
        "    self.B1 = np.zeros((2, 1))\n",
        "    self.B2 = np.zeros((1, 1))\n",
        "\n",
        "  def sigmoid(self, X):\n",
        "    return 1.0/(1.0 + np.exp(-X))\n",
        "\n",
        "  def forward_pass(self, X):\n",
        "    # X -> (N,2) --> X.T -> (2,N)\n",
        "    X = X.T\n",
        "    self.Z1 = np.matmul(self.W1, X) + self.B1                         # (2 , 2) * (2 , N) --> (2 , N)\n",
        "    self.A1 = self.sigmoid(self.Z1)                                   # (2 , N) --> (2 , N)\n",
        "    self.Z2 = np.matmul(self.W2, self.A1) + self.B2                   # (1 , 2) * (2 , N) --> (1 , N)\n",
        "    self.A2 = self.sigmoid(self.A2)\n",
        "    return self.A2\n",
        "\n",
        "  def grad(self, X, Y):\n",
        "    self.forward_pass(X)\n",
        "    X = X.T     # (2 , N)\n",
        "    Y = Y.T     # ()\n",
        "\n",
        "    self.dZ2 = (self.A2 - Y) * self.A2 * (1 - self.A2)                # (1 , N)\n",
        "\n",
        "    self.dW2 = np.matmul(self.dZ2, self.A1.T)                         # (1 , N) * (N , 2) --> (2 , 2)\n",
        "    self.dB2 = np.sum(self.dZ2, axis=)"
      ],
      "execution_count": 23,
      "outputs": [
        {
          "output_type": "error",
          "ename": "SyntaxError",
          "evalue": "ignored",
          "traceback": [
            "\u001b[0;36m  File \u001b[0;32m\"<ipython-input-23-73cd5584e081>\"\u001b[0;36m, line \u001b[0;32m29\u001b[0m\n\u001b[0;31m    self.dB2 = np.sum(self.dZ2, axis=)\u001b[0m\n\u001b[0m                                     ^\u001b[0m\n\u001b[0;31mSyntaxError\u001b[0m\u001b[0;31m:\u001b[0m invalid syntax\n"
          ]
        }
      ]
    },
    {
      "cell_type": "code",
      "metadata": {
        "id": "apEFRtXeLBct",
        "colab_type": "code",
        "colab": {}
      },
      "source": [
        "class Generic_FF_Network:\n",
        "\n",
        "  def __init__(self, n_inputs, n_outputs, hidden_layers=[2]):\n",
        "    self.nx = n_inputs\n",
        "    self.ny = n_outputs\n",
        "    self.nh = len(hidden_layers)\n",
        "    self.neurons = [self.nx] + hidden_layers + [self.ny]\n",
        "\n",
        "    self.W = {}\n",
        "    self.B = {}\n",
        "\n",
        "    for i in range(self.nh + 1):\n",
        "      self.W[i+1] = np.random.randn( self.neurons[i], self.neurons[i+1])\n",
        "      self.B[i+1] = np.zeros((1, self.neurons[i+1]))\n",
        "\n",
        "  def sigmoid(self, X):\n",
        "    return 1.0/(1.0 + np.exp(-X))\n",
        "\n",
        "  def softmax(self, X):\n",
        "    exps = np.exp(X)\n",
        "    return exps / np.sum(exps, axis=1)\n",
        "\n",
        "\n",
        "  def forward_pass(self, X):\n",
        "    self.Z = {}\n",
        "    self.A = {}\n",
        "    self.A[0] = X\n",
        "    for i in range(self.nh):\n",
        "      self.Z[i+1] = np.matmul(self.A[i], self.W[i+1]) + self.B[i+1]\n",
        "      self.A[i+1] = self.sigmoid(self.Z[i+1])\n",
        "    self.Z[self.nh+1] = np.matmul(self.A[self.nh], self.W[self.nh+1]) + self.B[self.nh+1]\n",
        "    self.A[self.nh+1] = self.softmax(self.Z[self.nh+1])\n",
        "    return self.A[self.nh+1]\n",
        "  \n",
        "  def predict(self, X):\n",
        "    Y_pred = self.forward_pass(X)\n",
        "    return np.array(Y_pred).squeeze()\n",
        " \n",
        "  def grad_sigmoid(self, X):\n",
        "    return X*(1-X) \n",
        "  \n",
        "  def cross_entropy(self,label,pred):\n",
        "    yl=np.multiply(pred,label)\n",
        "    yl=yl[yl!=0]\n",
        "    yl=-np.log(yl)\n",
        "    yl=np.mean(yl)\n",
        "    return yl\n",
        " \n",
        "  def grad(self, X, Y):\n",
        "    self.forward_pass(X)\n",
        "    self.dW = {}\n",
        "    self.dB = {}\n",
        "    self.dA = {}\n",
        "    self.dZ = {}\n",
        "    L = self.nh + 1\n",
        "    self.dZ[L] = (self.A[L] - Y)\n",
        "    for k in range(L, 0, -1):\n",
        "      self.dW[k] = np.matmul(self.A[k-1].T, self.dZ[k])\n",
        "      self.dB[k] = np.sum(self.dZ[k], axis=1)\n",
        "      self.dA[k-1] = np.matmul(self.dZ[k], self.W[k].T)\n",
        "      self.dZ[k-1] = np.multiply(self.dA[k-1], self.grad_sigmoid(self.A[k-1])) \n",
        "    \n",
        "  def fit(self, X, Y, epochs=100, initialize='True', learning_rate=0.01, display_loss=False):\n",
        "      \n",
        "    if display_loss:\n",
        "      loss = {}\n",
        "      \n",
        "    if initialize:\n",
        "      for i in range(self.nh+1):\n",
        "        self.W[i+1] = np.random.randn( self.neurons[i], self.neurons[i+1])\n",
        "        self.B[i+1] = np.zeros((1, self.neurons[i+1]))\n",
        "        \n",
        "    for epoch in tqdm(range(epochs), total=epochs, unit=\"epoch\"):\n",
        "      dW = {}\n",
        "      dB = {}\n",
        "      for i in range(self.nh+1):\n",
        "        dW[i+1] = np.zeros(( self.neurons[i], self.neurons[i+1]))\n",
        "        dB[i+1] = np.zeros((1, self.neurons[i+1]))\n",
        "      \n",
        "      self.grad(X, Y)\n",
        "      for i in range(self.nh+1):\n",
        "        dW[i+1] += self.dW[i+1]\n",
        "        dB[i+1] += self.dB[i+1]\n",
        "                  \n",
        "      m = X.shape[0]\n",
        "      for i in range(self.nh+1):\n",
        "        self.W[i+1] -= learning_rate * (dW[i+1]/m)\n",
        "        self.B[i+1] -= learning_rate * (dB[i+1]/m)\n",
        "        \n",
        "      if display_loss:\n",
        "        Y_pred = self.predict(X) \n",
        "        loss[epoch] = self.cross_entropy(Y, Y_pred)\n",
        "    \n",
        "    if display_loss:\n",
        "      plt.plot(list(loss.values()))\n",
        "      plt.xlabel('Epochs')\n",
        "      plt.ylabel('CE')\n",
        "      plt.show()\n",
        "\n"
      ],
      "execution_count": 34,
      "outputs": []
    },
    {
      "cell_type": "code",
      "metadata": {
        "id": "2_BoUdHbpl1G",
        "colab_type": "code",
        "colab": {}
      },
      "source": [
        "Net1 = Generic_FF_Network(2,1,[2,2])\n",
        "Net1.fit(X_train, Y_train, epochs=1000, learning_rate=0.01, display_loss=True)"
      ],
      "execution_count": null,
      "outputs": []
    },
    {
      "cell_type": "code",
      "metadata": {
        "id": "7hJdgjRCqORY",
        "colab_type": "code",
        "colab": {}
      },
      "source": [
        ""
      ],
      "execution_count": null,
      "outputs": []
    }
  ]
}