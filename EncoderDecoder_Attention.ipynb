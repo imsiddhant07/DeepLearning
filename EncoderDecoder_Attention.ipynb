{
  "nbformat": 4,
  "nbformat_minor": 0,
  "metadata": {
    "colab": {
      "name": "EncoderDecoder-Attention.ipynb",
      "provenance": [],
      "authorship_tag": "ABX9TyN6OAU/b5xLyi3tPzzbUI+H",
      "include_colab_link": true
    },
    "kernelspec": {
      "name": "python3",
      "display_name": "Python 3"
    },
    "accelerator": "GPU"
  },
  "cells": [
    {
      "cell_type": "markdown",
      "metadata": {
        "id": "view-in-github",
        "colab_type": "text"
      },
      "source": [
        "<a href=\"https://colab.research.google.com/github/siddhantjain07/DeepLearning/blob/master/EncoderDecoder_Attention.ipynb\" target=\"_parent\"><img src=\"https://colab.research.google.com/assets/colab-badge.svg\" alt=\"Open In Colab\"/></a>"
      ]
    },
    {
      "cell_type": "code",
      "metadata": {
        "id": "Z6UuwYotZpU9",
        "outputId": "e8e0c619-703e-4263-b723-12c84dd097a5",
        "colab": {
          "base_uri": "https://localhost:8080/",
          "height": 52
        }
      },
      "source": [
        "import torch\n",
        "import torch.nn as nn\n",
        "import torch.optim as optim\n",
        "from torch.autograd import Variable\n",
        "import torch.nn.functional as F\n",
        "import numpy as np\n",
        "\n",
        "device_gpu = torch.device('cuda:0' if torch.cuda.is_available() else 'cpu')\n",
        "\n",
        "import matplotlib.pyplot as plt\n",
        "import seaborn as sns\n",
        "sns.set()\n",
        "from IPython.display import clear_output\n",
        "\n",
        "import random"
      ],
      "execution_count": 1,
      "outputs": [
        {
          "output_type": "stream",
          "text": [
            "/usr/local/lib/python3.6/dist-packages/statsmodels/tools/_testing.py:19: FutureWarning: pandas.util.testing is deprecated. Use the functions in the public API at pandas.testing instead.\n",
            "  import pandas.util.testing as tm\n"
          ],
          "name": "stderr"
        }
      ]
    },
    {
      "cell_type": "markdown",
      "metadata": {
        "id": "udVzvPbpcGZf"
      },
      "source": [
        "##Dataset"
      ]
    },
    {
      "cell_type": "markdown",
      "metadata": {
        "id": "MHOXl00scaeY"
      },
      "source": [
        "###Alphabets Setup"
      ]
    },
    {
      "cell_type": "code",
      "metadata": {
        "id": "zOdf5J-8c4N8",
        "outputId": "aafb7f54-14dc-4439-d7ad-fe2b2d47a9bd",
        "colab": {
          "base_uri": "https://localhost:8080/",
          "height": 54
        }
      },
      "source": [
        "eng_alphabets = 'ABCDEFGHIJKLMNOPQRSTUVWXYZ'\n",
        "pad_char = '-PAD-'\n",
        "\n",
        "eng_alpha2index = {pad_char : 0}\n",
        "for index, alpha in enumerate(eng_alphabets):\n",
        "  eng_alpha2index[alpha] = index + 1\n",
        "\n",
        "print(eng_alpha2index)"
      ],
      "execution_count": 2,
      "outputs": [
        {
          "output_type": "stream",
          "text": [
            "{'-PAD-': 0, 'A': 1, 'B': 2, 'C': 3, 'D': 4, 'E': 5, 'F': 6, 'G': 7, 'H': 8, 'I': 9, 'J': 10, 'K': 11, 'L': 12, 'M': 13, 'N': 14, 'O': 15, 'P': 16, 'Q': 17, 'R': 18, 'S': 19, 'T': 20, 'U': 21, 'V': 22, 'W': 23, 'X': 24, 'Y': 25, 'Z': 26}\n"
          ],
          "name": "stdout"
        }
      ]
    },
    {
      "cell_type": "code",
      "metadata": {
        "id": "E_w8NlfSde9N",
        "outputId": "073173f2-5626-408a-a6cb-93e293ace86b",
        "colab": {
          "base_uri": "https://localhost:8080/",
          "height": 54
        }
      },
      "source": [
        "# Hindi Unicode Hex Range is 2304:2432. Source: https://en.wikipedia.org/wiki/Devanagari_(Unicode_block)\n",
        "\n",
        "hindi_alphabets = [chr(alpha) for alpha in range(2304, 2432)]\n",
        "hindi_alphabet_size = len(hindi_alphabets)\n",
        "\n",
        "hindi_alpha2index = {pad_char : 0}\n",
        "for index, alpha in enumerate(hindi_alphabets):\n",
        "  hindi_alpha2index[alpha] = index + 1\n",
        "\n",
        "print(hindi_alpha2index)"
      ],
      "execution_count": 3,
      "outputs": [
        {
          "output_type": "stream",
          "text": [
            "{'-PAD-': 0, 'ऀ': 1, 'ँ': 2, 'ं': 3, 'ः': 4, 'ऄ': 5, 'अ': 6, 'आ': 7, 'इ': 8, 'ई': 9, 'उ': 10, 'ऊ': 11, 'ऋ': 12, 'ऌ': 13, 'ऍ': 14, 'ऎ': 15, 'ए': 16, 'ऐ': 17, 'ऑ': 18, 'ऒ': 19, 'ओ': 20, 'औ': 21, 'क': 22, 'ख': 23, 'ग': 24, 'घ': 25, 'ङ': 26, 'च': 27, 'छ': 28, 'ज': 29, 'झ': 30, 'ञ': 31, 'ट': 32, 'ठ': 33, 'ड': 34, 'ढ': 35, 'ण': 36, 'त': 37, 'थ': 38, 'द': 39, 'ध': 40, 'न': 41, 'ऩ': 42, 'प': 43, 'फ': 44, 'ब': 45, 'भ': 46, 'म': 47, 'य': 48, 'र': 49, 'ऱ': 50, 'ल': 51, 'ळ': 52, 'ऴ': 53, 'व': 54, 'श': 55, 'ष': 56, 'स': 57, 'ह': 58, 'ऺ': 59, 'ऻ': 60, '़': 61, 'ऽ': 62, 'ा': 63, 'ि': 64, 'ी': 65, 'ु': 66, 'ू': 67, 'ृ': 68, 'ॄ': 69, 'ॅ': 70, 'ॆ': 71, 'े': 72, 'ै': 73, 'ॉ': 74, 'ॊ': 75, 'ो': 76, 'ौ': 77, '्': 78, 'ॎ': 79, 'ॏ': 80, 'ॐ': 81, '॑': 82, '॒': 83, '॓': 84, '॔': 85, 'ॕ': 86, 'ॖ': 87, 'ॗ': 88, 'क़': 89, 'ख़': 90, 'ग़': 91, 'ज़': 92, 'ड़': 93, 'ढ़': 94, 'फ़': 95, 'य़': 96, 'ॠ': 97, 'ॡ': 98, 'ॢ': 99, 'ॣ': 100, '।': 101, '॥': 102, '०': 103, '१': 104, '२': 105, '३': 106, '४': 107, '५': 108, '६': 109, '७': 110, '८': 111, '९': 112, '॰': 113, 'ॱ': 114, 'ॲ': 115, 'ॳ': 116, 'ॴ': 117, 'ॵ': 118, 'ॶ': 119, 'ॷ': 120, 'ॸ': 121, 'ॹ': 122, 'ॺ': 123, 'ॻ': 124, 'ॼ': 125, 'ॽ': 126, 'ॾ': 127, 'ॿ': 128}\n"
          ],
          "name": "stdout"
        }
      ]
    },
    {
      "cell_type": "markdown",
      "metadata": {
        "id": "HlViz7xJfsTh"
      },
      "source": [
        "###Helper functions "
      ]
    },
    {
      "cell_type": "code",
      "metadata": {
        "id": "hIHN8DTgfbyb"
      },
      "source": [
        "import re\n",
        "non_eng_letters_regex = re.compile('[^a-zA-Z ]')\n",
        "\n",
        "#Remove all English non-letters\n",
        "def cleanEnglishVocab(line):\n",
        "  line = line.replace('-', ' ').replace(',', ' ').upper()\n",
        "  line = non_eng_letters_regex.sub('', line)\n",
        "  return line.split()\n",
        "\n",
        "#Remove Hindi non-letters\n",
        "def cleanHindiVocab(line):\n",
        "  line = line.replace('-', ' ').replace(',', ' ')\n",
        "  cleaned_line = ''\n",
        "  for char in line:\n",
        "    if char in hindi_alpha2index or char == ' ':\n",
        "      cleaned_line += char\n",
        "  return cleaned_line.split()"
      ],
      "execution_count": 4,
      "outputs": []
    },
    {
      "cell_type": "markdown",
      "metadata": {
        "id": "th_l-UXticV5"
      },
      "source": [
        "###Dataset loading"
      ]
    },
    {
      "cell_type": "code",
      "metadata": {
        "id": "ZH0pPYQEhk6R"
      },
      "source": [
        "from torch.utils.data import Dataset\n",
        "import xml.etree.ElementTree as ET\n",
        "\n",
        "class TransliterationDataLoader(Dataset):\n",
        "  def __init__(self, filename):\n",
        "    self.eng_words, self.hindi_words = self.readXmlDataset(filename, cleanHindiVocab)\n",
        "    self.shuffle_indices = list(range(len(self.eng_words)))\n",
        "    random.shuffle(self.shuffle_indices)\n",
        "    self.shuffle_start_index = 0\n",
        "\n",
        "  def __len__(self):\n",
        "    return len(self.eng_words)\n",
        "\n",
        "  def __getitem__(self, idx):\n",
        "    return self.eng_words[idx], self.hindi_words[idx]\n",
        "\n",
        "  def readXmlDataset(self, filename, lang_vocab_cleaner):\n",
        "    transliterationCorpus = ET.parse(filename).getroot()\n",
        "    lang1_words = []\n",
        "    lang2_words = []\n",
        "\n",
        "    for line in transliterationCorpus:\n",
        "      wordlist1 = cleanEnglishVocab(line[0].text)\n",
        "      wordlist2 = cleanHindiVocab(line[1].text)\n",
        "\n",
        "      #Skip noisy data\n",
        "      if len(wordlist1) != len(wordlist2):\n",
        "        print('Skipping:', line[0].text, '-', line[1].text)\n",
        "        continue\n",
        "      \n",
        "      for word in wordlist1:\n",
        "        lang1_words.append(word)\n",
        "      for word in wordlist2:\n",
        "        lang2_words.append(word)\n",
        "      \n",
        "    return lang1_words, lang2_words\n",
        "\n",
        "  def get_random_sample(self):\n",
        "    return self.__getitem__(np.random.randint(len(self.eng_words)))\n",
        "\n",
        "  def get_batch_from_array(self, batch_size, array):\n",
        "    end = self.shuffle_start_index + batch_size\n",
        "    batch = []\n",
        "    if end >= len(self.eng_words):\n",
        "      batch = [array[i] for i in self.shuffle_indices[0:end%len(self.eng_words)]]\n",
        "      end = len(self.eng_words)\n",
        "    return batch + [array[i] for i in self.shuffle_indices[self.shuffle_start_index : end]]\n",
        "\n",
        "  def get_batch(self, batch_size, postprocess = True):\n",
        "    eng_batch = self.get_batch_from_array(batch_size, self.eng_words)\n",
        "    hindi_batch = self.get_batch_from_array(batch_size, self.hindi_words)\n",
        "    self.shuffle_start_index += batch_size + 1\n",
        "\n",
        "    # Reshuffle if 1 epoch is complete\n",
        "    if self.shuffle_start_index >= len(self.eng_words):\n",
        "      random.shuffle(self.shuffle_indices)\n",
        "      self.shuffle_start_index = 0\n",
        "\n",
        "    return eng_batch, hindi_batch"
      ],
      "execution_count": 5,
      "outputs": []
    },
    {
      "cell_type": "code",
      "metadata": {
        "id": "7hb8XmzmlFZ3",
        "outputId": "e1aff584-ce7d-4e4d-e94d-93f96c5893cc",
        "colab": {
          "base_uri": "https://localhost:8080/",
          "height": 694
        }
      },
      "source": [
        "train_data = TransliterationDataLoader('NEWS2012-Training-EnHi-13937.xml')\n",
        "test_data = TransliterationDataLoader('NEWS2012-Ref-EnHi-1000.xml')"
      ],
      "execution_count": 6,
      "outputs": [
        {
          "output_type": "stream",
          "text": [
            "Skipping: BARHARWA JUNCTION - बरहरवा\n",
            "Skipping: STATE BNK TR - स्टेट बैंक ऑफ त्रावणकोर\n",
            "Skipping: SOUTH ARLINGTON CHURCH OF CHRIST - साउथ अर्लिंग्टन\n",
            "Skipping: KING EDWARD VII - किंग एडवर्ड\n",
            "Skipping: DIBANG VALLEY - दिबंगवैली\n",
            "Skipping: ORDER OF VASA - ऑडर ऑफ़ द वासा\n",
            "Skipping: AZAMNAGAR ROAD - आज़मनगर\n",
            "Skipping: CAPE TOWN - केपटाउन\n",
            "Skipping: NEW ZEALAND - न्यूज़ीलैंड\n",
            "Skipping: SEA OF THE HEBRIDES - सी ऑफ हरब्रिड्‍स\n",
            "Skipping: RAMCOIND - राम्को इंड\n",
            "Skipping: KELVINGROVE ART GALLERY AND MUSEUM - केल्व‍िनग्रोव आर्ट एण्ड म्युज़ियम\n",
            "Skipping: AUSTRALIAN NATIONAL UNIVERSITY - ऑस्ट्रेलियननेशनल यूनिवर्सिटी\n",
            "Skipping: JAHAN AARA - जहाँआरा\n",
            "Skipping: NAVABHARAT FERRO ALLOYS - नव भारत फ़ैरो अलॉय\n",
            "Skipping: RAMA LINGESHWARA - रामालिंगेश्वर\n",
            "Skipping: FAKHRUN NISA - फखरुन्निसा\n",
            "Skipping: REDIFF.COM INDIA LIMITED - रेडिफ़ डॉट कॉम इंडिया लिमिटेड\n",
            "Skipping: OMKARNATH THAKUR - ओंकार नाथ ठाकुर\n",
            "Skipping: OPENTV - ओपन टीवी\n",
            "Skipping: ENVOY COMMUNICATIONS GROUP - एन्वॉय कम्युनिकेशंस\n",
            "Skipping: WAR OF THE HOLY LEAGUE - वार ऑफ होली लीग\n",
            "Skipping: VAPARAISO CHURCH OF CHRIST - व्हापरासिओ\n",
            "Skipping: PARIS CHARLES DE GAULLE - पेरिस रॉसे चार्ल्स डे ग्यूले\n",
            "Skipping: PARKWAY APOSTOLIC - पार्क वे अपोस्टोलिक\n",
            "Skipping: MAUNA LOA - मौनालोआ\n",
            "Skipping: MASS MUTUAL LIFE - मास म्युच्युअल लाइफ़ इंश्योरेंस\n",
            "Skipping: STATS CHIPPAC - स्टेट्सचिपपैक\n",
            "Skipping: NEWFOUNDLAND - न्यू फाउंडलैंड\n",
            "Skipping: LONDONHEATHROW - लंदन हीथ्रो\n",
            "Skipping: RETALIX - रेटालिक्स लि.\n",
            "Skipping: SRISAILAM - श्री शैलम\n",
            "Skipping: KARA-KUM - काराकुम\n",
            "Skipping: WIND RIVER - विंडरिवर\n",
            "Skipping: NETAJI SUBHASH CHANDRA BOSE - नेताजी सुभाषचंद्र बोस\n",
            "Skipping: ROCKBROOK UNITED - रॉकब्रुक यूनाइटेड मेथोडिस्ट\n",
            "Skipping: WALTER SCOTT - वॉल्टरस्कॉट\n",
            "Skipping: COLOURPLUS FASHIONS - कलर प्लस फ़ैशन्स\n",
            "Skipping: BAL KRISHNA - बालकृष्णा\n"
          ],
          "name": "stdout"
        }
      ]
    },
    {
      "cell_type": "markdown",
      "metadata": {
        "id": "Kib16i9jmbAu"
      },
      "source": [
        "###Data Visualization"
      ]
    },
    {
      "cell_type": "code",
      "metadata": {
        "id": "jAXYLVJTmQ_2",
        "outputId": "9eed6a68-eddb-49a7-9519-dd8c22c1980f",
        "colab": {
          "base_uri": "https://localhost:8080/",
          "height": 260
        }
      },
      "source": [
        "print(\"Train Set Size:\\t\", len(train_data))\n",
        "print(\"Test Set Size:\\t\", len(test_data))\n",
        "\n",
        "print('\\nSample data from train-set:')\n",
        "for i in range(10):\n",
        "    eng, hindi = train_data.get_random_sample()\n",
        "    print(eng + ' - ' + hindi)"
      ],
      "execution_count": 7,
      "outputs": [
        {
          "output_type": "stream",
          "text": [
            "Train Set Size:\t 20543\n",
            "Test Set Size:\t 1000\n",
            "\n",
            "Sample data from train-set:\n",
            "BADI - बड़ी\n",
            "YARDLEY - यार्डले\n",
            "NIHAR - निहार\n",
            "JUNGLEE - जंगली\n",
            "CHANDPUR - चाँदपुर\n",
            "SAWAAL - सवाल\n",
            "GONDHALEKAR - गोंधलेकर\n",
            "KALA - काला\n",
            "EISA - ईज़ा\n",
            "RUTHENIUM - रूथेनियम\n"
          ],
          "name": "stdout"
        }
      ]
    },
    {
      "cell_type": "markdown",
      "metadata": {
        "id": "k2qCaljzx3cx"
      },
      "source": [
        "###Encoding the words"
      ]
    },
    {
      "cell_type": "code",
      "metadata": {
        "id": "aKzEZl7Mm8MZ"
      },
      "source": [
        "def word_rep(word, letter2index, device = 'cpu'):\n",
        "  rep = torch.zeros(len(word)+1, 1, len(letter2index)).to(device)\n",
        "  for letter_index, letter in enumerate(word):\n",
        "    pos = letter2index[letter]\n",
        "    rep[letter_index][0][pos] = 1\n",
        "  pad_pos = letter2index[pad_char]\n",
        "  rep[letter_index +1][0][pad_pos] = 1\n",
        "  return rep\n",
        "\n",
        "def gt_rep(word, letter2index, device = 'cpu'):\n",
        "  gt_rep = torch.zeros([len(word)+1, 1], dtype=torch.long).to(device)\n",
        "  for letter_index, letter in enumerate(word):\n",
        "    pos = letter2index[letter]\n",
        "    gt_rep[letter_index][0] = pos\n",
        "  gt_rep[letter_index+1][0] = letter2index[pad_char]\n",
        "  return gt_rep"
      ],
      "execution_count": 8,
      "outputs": []
    },
    {
      "cell_type": "code",
      "metadata": {
        "id": "fd5t4XkuzyEP",
        "outputId": "8089184b-0440-424f-d173-1f9532da19f8",
        "colab": {
          "base_uri": "https://localhost:8080/",
          "height": 260
        }
      },
      "source": [
        "eng, hindi = train_data.get_random_sample()\n",
        "eng_rep = word_rep(eng, eng_alpha2index)\n",
        "print(eng, eng_rep)"
      ],
      "execution_count": 9,
      "outputs": [
        {
          "output_type": "stream",
          "text": [
            "ZULM tensor([[[0., 0., 0., 0., 0., 0., 0., 0., 0., 0., 0., 0., 0., 0., 0., 0., 0.,\n",
            "          0., 0., 0., 0., 0., 0., 0., 0., 0., 1.]],\n",
            "\n",
            "        [[0., 0., 0., 0., 0., 0., 0., 0., 0., 0., 0., 0., 0., 0., 0., 0., 0.,\n",
            "          0., 0., 0., 0., 1., 0., 0., 0., 0., 0.]],\n",
            "\n",
            "        [[0., 0., 0., 0., 0., 0., 0., 0., 0., 0., 0., 0., 1., 0., 0., 0., 0.,\n",
            "          0., 0., 0., 0., 0., 0., 0., 0., 0., 0.]],\n",
            "\n",
            "        [[0., 0., 0., 0., 0., 0., 0., 0., 0., 0., 0., 0., 0., 1., 0., 0., 0.,\n",
            "          0., 0., 0., 0., 0., 0., 0., 0., 0., 0.]],\n",
            "\n",
            "        [[1., 0., 0., 0., 0., 0., 0., 0., 0., 0., 0., 0., 0., 0., 0., 0., 0.,\n",
            "          0., 0., 0., 0., 0., 0., 0., 0., 0., 0.]]])\n"
          ],
          "name": "stdout"
        }
      ]
    },
    {
      "cell_type": "code",
      "metadata": {
        "id": "rmtGaQpH09Ip",
        "outputId": "491a6882-7e60-42a2-a050-801dff2334e6",
        "colab": {
          "base_uri": "https://localhost:8080/",
          "height": 139
        }
      },
      "source": [
        "hindi_gt = gt_rep(hindi, hindi_alpha2index)\n",
        "print(hindi, hindi_gt)"
      ],
      "execution_count": 10,
      "outputs": [
        {
          "output_type": "stream",
          "text": [
            "ज़ुल्म tensor([[29],\n",
            "        [61],\n",
            "        [66],\n",
            "        [51],\n",
            "        [78],\n",
            "        [47],\n",
            "        [ 0]])\n"
          ],
          "name": "stdout"
        }
      ]
    },
    {
      "cell_type": "markdown",
      "metadata": {
        "id": "_8dYkDjZ2l4H"
      },
      "source": [
        "##Network Architecture"
      ]
    },
    {
      "cell_type": "markdown",
      "metadata": {
        "id": "nCDFlnC03Qd7"
      },
      "source": [
        "###Encoder-Decoder (using GRUs)"
      ]
    },
    {
      "cell_type": "code",
      "metadata": {
        "id": "LOm2GS1N2KB4"
      },
      "source": [
        "MAX_OUTPUT_CHARS = 30\n",
        "\n",
        "class Transliteration_EncoderDecoder(nn.Module):\n",
        "\n",
        "  def __init__(self, input_size, hidden_size, output_size, verbose=False):\n",
        "    super(Transliteration_EncoderDecoder, self).__init__()\n",
        "\n",
        "    self.hidden_size = hidden_size\n",
        "    self.output_size = output_size\n",
        "\n",
        "    self.encoder_rnn_cell = nn.GRU(input_size = input_size, hidden_size = hidden_size)\n",
        "    self.decoder_rnn_cell = nn.GRU(input_size = output_size, hidden_size = hidden_size)\n",
        "\n",
        "\n",
        "    self.h2o = nn.Linear(in_features = hidden_size, out_features = output_size)\n",
        "    self.softmax = nn.LogSoftmax(dim = 2)\n",
        "\n",
        "    self.verbose = verbose\n",
        "\n",
        "  def forward(self, input, max_output_chars = MAX_OUTPUT_CHARS, device = 'cpu', ground_truth = None):\n",
        "    #encoder\n",
        "    out, hidden = self.encoder_rnn_cell(input)\n",
        "    if self.verbose:\n",
        "      print('Encoder input:', input.shape)\n",
        "      print('Encoder output:', out.shape)\n",
        "      print('Encoder hidden:', hidden.shape)\n",
        "\n",
        "    #decoder\n",
        "    decoder_state = hidden\n",
        "    decoder_input = torch.zeros(1, 1, self.output_size).to(device)\n",
        "    outputs = []\n",
        "\n",
        "    if self.verbose:\n",
        "      print('Decoder state:', decoder_state.shape)\n",
        "      print('Decoder input:', decoder_input.shape)\n",
        "\n",
        "    for i in range(max_output_chars):\n",
        "      out, decoder_state = self.decoder_rnn_cell(decoder_input, decoder_state)\n",
        "\n",
        "      if self.verbose:\n",
        "        print('Decoder intermediate output:', out.shape)\n",
        "\n",
        "      out = self.h2o(decoder_state)\n",
        "      out = self.softmax(out)\n",
        "      outputs.append(out.view(1, -1))\n",
        "\n",
        "      if self.verbose:\n",
        "        print('Decoder output:', out.shape)\n",
        "        self.verbose = False\n",
        "\n",
        "      max_idx = torch.argmax(out, 2, keepdim=True)\n",
        "      if not ground_truth is None:\n",
        "        max_idx = ground_truth[i].reshape(1, 1, 1)\n",
        "      one_hot = torch.FloatTensor(out.shape).to(device)\n",
        "      one_hot.zero_()\n",
        "      one_hot.scatter_(2, max_idx, 1)\n",
        "\n",
        "      decoder_input = one_hot.detach()\n",
        "\n",
        "    return outputs\n"
      ],
      "execution_count": 30,
      "outputs": []
    },
    {
      "cell_type": "code",
      "metadata": {
        "id": "uFsuV0Ga5wEd"
      },
      "source": [
        "net = Transliteration_EncoderDecoder(len(eng_alpha2index), 256, len(hindi_alpha2index), verbose=True)"
      ],
      "execution_count": 12,
      "outputs": []
    },
    {
      "cell_type": "markdown",
      "metadata": {
        "id": "bw3qQwj2DYo0"
      },
      "source": [
        "##Encoder-Decoder with Attention"
      ]
    },
    {
      "cell_type": "code",
      "metadata": {
        "id": "zwCFLC1CBZGT"
      },
      "source": [
        "class Transliteration_EncoderDecoder_Attention(nn.Module):\n",
        "    \n",
        "    def __init__(self, input_size, hidden_size, output_size, verbose=False):\n",
        "        super(Transliteration_EncoderDecoder_Attention, self).__init__()\n",
        "        \n",
        "        self.hidden_size = hidden_size\n",
        "        self.output_size = output_size\n",
        "        \n",
        "        self.encoder_rnn_cell = nn.GRU(input_size, hidden_size)\n",
        "        self.decoder_rnn_cell = nn.GRU(hidden_size*2, hidden_size)\n",
        "        \n",
        "        self.h2o = nn.Linear(hidden_size, output_size)\n",
        "        self.softmax = nn.LogSoftmax(dim=2)\n",
        "        \n",
        "        self.U = nn.Linear(self.hidden_size, self.hidden_size)\n",
        "        self.W = nn.Linear(self.hidden_size, self.hidden_size)\n",
        "        self.attn = nn.Linear(self.hidden_size, 1)\n",
        "        self.out2hidden = nn.Linear(self.output_size, self.hidden_size)   \n",
        "        \n",
        "        self.verbose = verbose\n",
        "        \n",
        "    def forward(self, input, max_output_chars = MAX_OUTPUT_CHARS, device = 'cpu', ground_truth = None):\n",
        "        \n",
        "        # encoder\n",
        "        encoder_outputs, hidden = self.encoder_rnn_cell(input)\n",
        "        encoder_outputs = encoder_outputs.view(-1, self.hidden_size)\n",
        "        \n",
        "        if self.verbose:\n",
        "            print('Encoder output', encoder_outputs.shape)\n",
        "        \n",
        "        # decoder\n",
        "        decoder_state = hidden\n",
        "        decoder_input = torch.zeros(1, 1, self.output_size).to(device)\n",
        "        \n",
        "        outputs = []\n",
        "        U = self.U(encoder_outputs)\n",
        "        \n",
        "        if self.verbose:\n",
        "            print('Decoder state', decoder_state.shape)\n",
        "            print('Decoder intermediate input', decoder_input.shape)\n",
        "            print('U * Encoder output', U.shape)\n",
        "        \n",
        "        for i in range(max_output_chars):\n",
        "            \n",
        "            W = self.W(decoder_state.view(1, -1).repeat(encoder_outputs.shape[0], 1))\n",
        "            V = self.attn(torch.tanh(U + W))\n",
        "            attn_weights = F.softmax(V.view(1, -1), dim = 1) \n",
        "            \n",
        "            if self.verbose:\n",
        "                print('W * Decoder state', W.shape)\n",
        "                print('V', V.shape)\n",
        "                print('Attn', attn_weights.shape)\n",
        "            \n",
        "            attn_applied = torch.bmm(attn_weights.unsqueeze(0),\n",
        "                                 encoder_outputs.unsqueeze(0))\n",
        "            \n",
        "            embedding = self.out2hidden(decoder_input)\n",
        "            decoder_input = torch.cat((embedding[0], attn_applied[0]), 1).unsqueeze(0)\n",
        "            \n",
        "            if self.verbose:\n",
        "                print('Attn LC', attn_applied.shape)\n",
        "                print('Decoder input', decoder_input.shape)\n",
        "                \n",
        "            out, decoder_state = self.decoder_rnn_cell(decoder_input, decoder_state)\n",
        "            \n",
        "            if self.verbose:\n",
        "                print('Decoder intermediate output', out.shape)\n",
        "                \n",
        "            out = self.h2o(decoder_state)\n",
        "            out = self.softmax(out)\n",
        "            outputs.append(out.view(1, -1))\n",
        "            \n",
        "            if self.verbose:\n",
        "                print('Decoder output', out.shape)\n",
        "                self.verbose = False\n",
        "            \n",
        "            max_idx = torch.argmax(out, 2, keepdim=True)\n",
        "            if not ground_truth is None:\n",
        "                max_idx = ground_truth[i].reshape(1, 1, 1)\n",
        "            one_hot = torch.zeros(out.shape, device=device)\n",
        "            one_hot.scatter_(2, max_idx, 1) \n",
        "            \n",
        "            decoder_input = one_hot.detach()\n",
        "            \n",
        "        return outputs"
      ],
      "execution_count": 28,
      "outputs": []
    },
    {
      "cell_type": "code",
      "metadata": {
        "id": "GsSm1ChtMZOg"
      },
      "source": [
        "net_attn = Transliteration_EncoderDecoder_Attention(len(eng_alpha2index), 256, len(hindi_alpha2index), verbose=True)"
      ],
      "execution_count": 29,
      "outputs": []
    },
    {
      "cell_type": "markdown",
      "metadata": {
        "id": "pFofqeL0em9u"
      },
      "source": [
        "##Training"
      ]
    },
    {
      "cell_type": "code",
      "metadata": {
        "id": "FhuUp_7Fea9y"
      },
      "source": [
        "def train_batch(net, opt, criterion, batch_size, device = 'cpu', teacher_force = False):\n",
        "    \n",
        "    net.train().to(device)\n",
        "    opt.zero_grad()\n",
        "    eng_batch, hindi_batch = train_data.get_batch(batch_size)\n",
        "    \n",
        "    total_loss = 0\n",
        "    for i in range(batch_size):\n",
        "        \n",
        "        input = word_rep(eng_batch[i], eng_alpha2index, device)\n",
        "        gt = gt_rep(hindi_batch[i], hindi_alpha2index, device)\n",
        "        outputs = net(input, gt.shape[0], device, ground_truth = (gt if teacher_force else None))\n",
        "        \n",
        "        for index, output in enumerate(outputs):\n",
        "            loss = criterion(output, gt[index]) / batch_size\n",
        "            loss.backward(retain_graph = True)\n",
        "            total_loss += loss\n",
        "        \n",
        "    opt.step()\n",
        "    return total_loss/batch_size"
      ],
      "execution_count": 24,
      "outputs": []
    },
    {
      "cell_type": "code",
      "metadata": {
        "id": "atxUvgHyeoJE"
      },
      "source": [
        "def train_setup(net, lr = 0.01, n_batches = 100, batch_size = 10, momentum = 0.9, display_freq=5, device = 'cpu'):\n",
        "    \n",
        "    net = net.to(device)\n",
        "    criterion = nn.NLLLoss(ignore_index = -1)\n",
        "    opt = optim.Adam(net.parameters(), lr=lr)\n",
        "    teacher_force_upto = n_batches//3\n",
        "    \n",
        "    loss_arr = np.zeros(n_batches + 1)\n",
        "    \n",
        "    for i in range(n_batches):\n",
        "        temp = train_batch(net, opt, criterion, batch_size, device = device, teacher_force = (i<teacher_force_upto) )\n",
        "        loss_arr[i+1] = (loss_arr[i]*i + temp)/(i + 1)\n",
        "        \n",
        "        if i%display_freq == display_freq-1:\n",
        "            clear_output(wait=True)\n",
        "            \n",
        "            print('Iteration', i, 'Loss', loss_arr[i])\n",
        "            plt.figure()\n",
        "            plt.plot(loss_arr[1:i], '-*')\n",
        "            plt.xlabel('Iteration')\n",
        "            plt.ylabel('Loss')\n",
        "            plt.show()\n",
        "            print('\\n\\n')\n",
        "            \n",
        "    torch.save(net, 'model.pt')\n",
        "    return loss_arr"
      ],
      "execution_count": 25,
      "outputs": []
    },
    {
      "cell_type": "markdown",
      "metadata": {
        "id": "2uhYMfnZeuQE"
      },
      "source": [
        "##Training without attenion"
      ]
    },
    {
      "cell_type": "code",
      "metadata": {
        "id": "MFYpcUVrequi"
      },
      "source": [
        "net = Transliteration_EncoderDecoder(len(eng_alpha2index), 256, len(hindi_alpha2index))"
      ],
      "execution_count": 31,
      "outputs": []
    },
    {
      "cell_type": "code",
      "metadata": {
        "id": "1oJqh9ENex05",
        "outputId": "5af4408b-8a2b-4f1b-dcbd-dd1594aeac50",
        "colab": {
          "base_uri": "https://localhost:8080/",
          "height": 389
        }
      },
      "source": [
        "train_setup(net, lr=0.001, n_batches=2000, batch_size = 64, display_freq=10, device = device_gpu)"
      ],
      "execution_count": 32,
      "outputs": [
        {
          "output_type": "stream",
          "text": [
            "Iteration 1999 Loss 0.18485628068447113\n"
          ],
          "name": "stdout"
        },
        {
          "output_type": "display_data",
          "data": {
            "image/png": "[encoded data removed]",
            "text/plain": [
              "<Figure size 432x288 with 1 Axes>"
            ]
          },
          "metadata": {
            "tags": [],
            "needs_background": "light"
          }
        },
        {
          "output_type": "stream",
          "text": [
            "\n",
            "\n",
            "\n"
          ],
          "name": "stdout"
        },
        {
          "output_type": "execute_result",
          "data": {
            "text/plain": [
              "array([0.        , 0.50100535, 0.49094352, ..., 0.18490538, 0.18485628,\n",
              "       0.18481536])"
            ]
          },
          "metadata": {
            "tags": []
          },
          "execution_count": 32
        }
      ]
    },
    {
      "cell_type": "markdown",
      "metadata": {
        "id": "OuTXg973rPlX"
      },
      "source": [
        "##Training with Attention"
      ]
    },
    {
      "cell_type": "code",
      "metadata": {
        "id": "RYINAiHOrSTV"
      },
      "source": [
        "net_att = Transliteration_EncoderDecoder_Attention(len(eng_alpha2index), 256, len(hindi_alpha2index))"
      ],
      "execution_count": 33,
      "outputs": []
    },
    {
      "cell_type": "code",
      "metadata": {
        "id": "HkPzVJHFe03C",
        "outputId": "ea64ba9d-393c-4812-bc8f-4a4220dde168",
        "colab": {
          "base_uri": "https://localhost:8080/",
          "height": 354
        }
      },
      "source": [
        "loss_history = train_setup(net_att, lr=0.001, n_batches=2000, batch_size = 64, display_freq=10, device = device_gpu)"
      ],
      "execution_count": null,
      "outputs": [
        {
          "output_type": "stream",
          "text": [
            "Iteration 1779 Loss 0.14458847045898438\n"
          ],
          "name": "stdout"
        },
        {
          "output_type": "display_data",
          "data": {
            "image/png": "[encoded data removed]",
            "text/plain": [
              "<Figure size 432x288 with 1 Axes>"
            ]
          },
          "metadata": {
            "tags": [],
            "needs_background": "light"
          }
        },
        {
          "output_type": "stream",
          "text": [
            "\n",
            "\n",
            "\n"
          ],
          "name": "stdout"
        }
      ]
    },
    {
      "cell_type": "code",
      "metadata": {
        "id": "F8dtzYMZy4Cd"
      },
      "source": [
        ""
      ],
      "execution_count": null,
      "outputs": []
    }
  ]
}